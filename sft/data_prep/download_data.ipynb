{
 "cells": [
  {
   "cell_type": "code",
   "execution_count": 1,
   "id": "19c2668e",
   "metadata": {},
   "outputs": [
    {
     "name": "stdout",
     "output_type": "stream",
     "text": [
      "YF.download() has changed argument auto_adjust default to True\n"
     ]
    },
    {
     "name": "stderr",
     "output_type": "stream",
     "text": [
      "[*********************100%***********************]  7 of 7 completed\n",
      "\n",
      "7 Failed downloads:\n",
      "['AAPL', 'NVDA', 'MSFT', 'TSLA', 'AMZN', 'GOOGL', 'META']: YFRateLimitError('Too Many Requests. Rate limited. Try after a while.')\n"
     ]
    },
    {
     "name": "stdout",
     "output_type": "stream",
     "text": [
      "数据已保存到 mag7_10years_data.parquet\n"
     ]
    }
   ],
   "source": [
    "import yfinance as yf\n",
    "import pandas as pd\n",
    "from datetime import datetime, timedelta\n",
    "\n",
    "# 定义Magnificent 7股票代码\n",
    "mag7_tickers = [\"AAPL\", \"MSFT\", \"GOOGL\", \"AMZN\", \"NVDA\", \"META\", \"TSLA\"] \n",
    "\n",
    "# 设置时间范围（近10年）\n",
    "end_date = datetime.now()\n",
    "start_date = end_date - timedelta(days=365*10)\n",
    "\n",
    "# 下载数据\n",
    "data = yf.download(mag7_tickers, start=start_date, end=end_date, group_by='ticker')\n",
    "\n",
    "# 重塑数据为长格式\n",
    "df_list = []\n",
    "for ticker in mag7_tickers:\n",
    "    ticker_data = data[ticker].copy()\n",
    "    ticker_data['Ticker'] = ticker\n",
    "    ticker_data.reset_index(inplace=True)\n",
    "    df_list.append(ticker_data)\n",
    "\n",
    "# 合并所有数据\n",
    "final_df = pd.concat(df_list, ignore_index=True)\n",
    "\n",
    "# 保存到Parquet文件\n",
    "final_df.to_parquet('mag7_10years_data.parquet', engine='pyarrow', index=False)\n",
    "\n",
    "print(\"数据已保存到 mag7_10years_data.parquet\")"
   ]
  },
  {
   "cell_type": "code",
   "execution_count": null,
   "id": "9df88fca",
   "metadata": {},
   "outputs": [
    {
     "name": "stdout",
     "output_type": "stream",
     "text": [
      "Downloading data for AAPL...\n"
     ]
    },
    {
     "name": "stderr",
     "output_type": "stream",
     "text": [
      "[*********************100%***********************]  1 of 1 completed\n",
      "\n",
      "1 Failed download:\n",
      "['AAPL']: YFRateLimitError('Too Many Requests. Rate limited. Try after a while.')\n"
     ]
    },
    {
     "name": "stdout",
     "output_type": "stream",
     "text": [
      "No data returned for AAPL. Retrying (1/3)...\n"
     ]
    },
    {
     "name": "stderr",
     "output_type": "stream",
     "text": [
      "[*********************100%***********************]  1 of 1 completed\n",
      "\n",
      "1 Failed download:\n",
      "['AAPL']: YFRateLimitError('Too Many Requests. Rate limited. Try after a while.')\n"
     ]
    },
    {
     "name": "stdout",
     "output_type": "stream",
     "text": [
      "No data returned for AAPL. Retrying (2/3)...\n"
     ]
    },
    {
     "name": "stderr",
     "output_type": "stream",
     "text": [
      "[*********************100%***********************]  1 of 1 completed\n",
      "\n",
      "1 Failed download:\n",
      "['AAPL']: YFRateLimitError('Too Many Requests. Rate limited. Try after a while.')\n"
     ]
    },
    {
     "name": "stdout",
     "output_type": "stream",
     "text": [
      "No data returned for AAPL. Retrying (3/3)...\n",
      "Failed to download data for AAPL after 3 attempts.\n"
     ]
    }
   ],
   "source": [
    "import yfinance as yf\n",
    "import pandas as pd\n",
    "import time\n",
    "from datetime import datetime, timedelta\n",
    "from typing import List\n",
    "\n",
    "def download_ticker_data(ticker: str, start_date: str, end_date: str, retries: int = 3, delay: int = 30) -> pd.DataFrame:\n",
    "    \"\"\"\n",
    "    Download data for a single ticker with retry logic and delay to handle rate limits.\n",
    "    \n",
    "    Args:\n",
    "        ticker: Stock ticker symbol\n",
    "        start_date: Start date in 'YYYY-MM-DD' format\n",
    "        end_date: End date in 'YYYY-MM-DD' format\n",
    "        retries: Number of retry attempts\n",
    "        delay: Delay in seconds between retries\n",
    "    \n",
    "    Returns:\n",
    "        DataFrame with stock data\n",
    "    \"\"\"\n",
    "    for attempt in range(retries):\n",
    "        try:\n",
    "            # Download data with auto_adjust set explicitly\n",
    "            data = yf.download(ticker, start=start_date, end=end_date, auto_adjust=False)\n",
    "            if not data.empty:\n",
    "                data['Ticker'] = ticker\n",
    "                return data\n",
    "            else:\n",
    "                print(f\"No data returned for {ticker}. Retrying ({attempt+1}/{retries})...\")\n",
    "                time.sleep(delay)\n",
    "        except Exception as e:\n",
    "            if \"Rate limited\" in str(e) or \"429\" in str(e):\n",
    "                print(f\"Rate limit hit for {ticker}. Waiting {delay} seconds... ({attempt+1}/{retries})\")\n",
    "                time.sleep(delay)\n",
    "            else:\n",
    "                print(f\"Error downloading {ticker}: {e}. Retrying ({attempt+1}/{retries})...\")\n",
    "                time.sleep(delay)\n",
    "    print(f\"Failed to download data for {ticker} after {retries} attempts.\")\n",
    "    return pd.DataFrame()\n",
    "\n",
    "def download_mag7_data(tickers: List[str], start_date: str, end_date: str) -> pd.DataFrame:\n",
    "    \"\"\"\n",
    "    Download data for multiple tickers and combine into a single DataFrame.\n",
    "    \n",
    "    Args:\n",
    "        tickers: List of ticker symbols\n",
    "        start_date: Start date in 'YYYY-MM-DD' format\n",
    "        end_date: End date in 'YYYY-MM-DD' format\n",
    "    \n",
    "    Returns:\n",
    "        Combined DataFrame with all ticker data\n",
    "    \"\"\"\n",
    "    df_list = []\n",
    "    for ticker in tickers:\n",
    "        print(f\"Downloading data for {ticker}...\")\n",
    "        data = download_ticker_data(ticker, start_date, end_date)\n",
    "        if not data.empty:\n",
    "            df_list.append(data)\n",
    "        time.sleep(30)  # Add delay between ticker downloads to avoid rate limits\n",
    "    if df_list:\n",
    "        final_df = pd.concat(df_list, ignore_index=False)\n",
    "        final_df.reset_index(inplace=True)\n",
    "        return final_df\n",
    "    else:\n",
    "        print(\"No data downloaded for any tickers.\")\n",
    "        return pd.DataFrame()\n",
    "\n",
    "# Define MAG7 tickers\n",
    "mag7_tickers = [\"AAPL\", \"MSFT\", \"GOOGL\", \"AMZN\", \"NVDA\", \"META\", \"TSLA\"] \n",
    "\n",
    "# Set time range (last 10 years)\n",
    "end_date = datetime.now().strftime('%Y-%m-%d')\n",
    "start_date = (datetime.now() - timedelta(days=365*10)).strftime('%Y-%m-%d')\n",
    "\n",
    "# Download data\n",
    "data = download_mag7_data(mag7_tickers, start_date, end_date)\n",
    "\n",
    "# Save to Parquet file if data is available\n",
    "if not data.empty:\n",
    "    data.to_parquet('mag7_10years_data.parquet', engine='pyarrow', index=False)\n",
    "    print(\"Data saved to mag7_10years_data.parquet\")\n",
    "else:\n",
    "    print(\"No data to save.\")\n",
    "\n",
    "# Display sample of data\n",
    "if not data.empty:\n",
    "    print(\"\\nSample of downloaded data:\")\n",
    "    print(data.head())"
   ]
  }
 ],
 "metadata": {
  "kernelspec": {
   "display_name": "ts",
   "language": "python",
   "name": "python3"
  },
  "language_info": {
   "codemirror_mode": {
    "name": "ipython",
    "version": 3
   },
   "file_extension": ".py",
   "mimetype": "text/x-python",
   "name": "python",
   "nbconvert_exporter": "python",
   "pygments_lexer": "ipython3",
   "version": "3.11.11"
  }
 },
 "nbformat": 4,
 "nbformat_minor": 5
}
