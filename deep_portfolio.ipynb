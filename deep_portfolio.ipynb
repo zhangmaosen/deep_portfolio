{
 "cells": [
  {
   "cell_type": "code",
   "execution_count": 1,
   "metadata": {},
   "outputs": [
    {
     "name": "stdout",
     "output_type": "stream",
     "text": [
      " See https://github.com/google-research/timesfm/blob/master/README.md for updated APIs.\n",
      "Loaded PyTorch TimesFM, likely because python version is 3.11.11 | packaged by conda-forge | (main, Mar  3 2025, 20:43:55) [GCC 13.3.0].\n"
     ]
    }
   ],
   "source": [
    "from deepdow.benchmarks import Benchmark, OneOverN, Random, MaximumReturn\n",
    "from deepdow.callbacks import EarlyStoppingCallback, ModelCheckpointCallback, Callback\n",
    "from deepdow.data import InRAMDataset, RigidDataLoader, prepare_standard_scaler, Scale\n",
    "from deepdow.data.synthetic import sin_single\n",
    "from deepdow.experiments import Run\n",
    "from deepdow.layers import SoftmaxAllocator\n",
    "from deepdow.losses import MeanReturns, SharpeRatio, MaximumDrawdown\n",
    "from deepdow.visualize import generate_metrics_table, generate_weights_table, plot_metrics, plot_weight_heatmap\n",
    "from deepdow.layers import NumericalMarkowitz\n",
    "import matplotlib.pyplot as plt\n",
    "import numpy as np\n",
    "import torch\n",
    "import torch.nn as nn\n",
    "from os import path\n",
    "from typing import Optional, Tuple\n",
    "\n",
    "import numpy as np\n",
    "import pandas as pd\n",
    "import torch\n",
    "import torch.multiprocessing as mp\n",
    "import yfinance as yf\n",
    "from finetuning.finetuning_torch import FinetuningConfig, TimesFMFinetuner\n",
    "from huggingface_hub import snapshot_download\n",
    "from torch.utils.data import Dataset\n",
    "\n",
    "from timesfm import TimesFm, TimesFmCheckpoint, TimesFmHparams\n",
    "from timesfm.pytorch_patched_decoder import PatchedTimeSeriesDecoder\n",
    "import os\n",
    "from deepdow.layers import Conv\n",
    "from deepdow.layers.collapse import AttentionCollapse, AverageCollapse\n",
    "from deepdow.layers.misc import CovarianceMatrix"
   ]
  },
  {
   "cell_type": "code",
   "execution_count": 2,
   "metadata": {},
   "outputs": [],
   "source": [
    "import pandas as pd\n",
    "df = pd.read_parquet('df.parquet')"
   ]
  },
  {
   "cell_type": "code",
   "execution_count": 3,
   "metadata": {},
   "outputs": [
    {
     "data": {
      "text/html": [
       "<div>\n",
       "<style scoped>\n",
       "    .dataframe tbody tr th:only-of-type {\n",
       "        vertical-align: middle;\n",
       "    }\n",
       "\n",
       "    .dataframe tbody tr th {\n",
       "        vertical-align: top;\n",
       "    }\n",
       "\n",
       "    .dataframe thead tr th {\n",
       "        text-align: left;\n",
       "    }\n",
       "\n",
       "    .dataframe thead tr:last-of-type th {\n",
       "        text-align: right;\n",
       "    }\n",
       "</style>\n",
       "<table border=\"1\" class=\"dataframe\">\n",
       "  <thead>\n",
       "    <tr>\n",
       "      <th>Ticker</th>\n",
       "      <th colspan=\"5\" halign=\"left\">AAPL</th>\n",
       "      <th colspan=\"5\" halign=\"left\">AMGN</th>\n",
       "      <th>...</th>\n",
       "      <th colspan=\"5\" halign=\"left\">WBA</th>\n",
       "      <th colspan=\"5\" halign=\"left\">WMT</th>\n",
       "    </tr>\n",
       "    <tr>\n",
       "      <th>Price</th>\n",
       "      <th>Close</th>\n",
       "      <th>High</th>\n",
       "      <th>Low</th>\n",
       "      <th>Open</th>\n",
       "      <th>Volume</th>\n",
       "      <th>Close</th>\n",
       "      <th>High</th>\n",
       "      <th>Low</th>\n",
       "      <th>Open</th>\n",
       "      <th>Volume</th>\n",
       "      <th>...</th>\n",
       "      <th>Close</th>\n",
       "      <th>High</th>\n",
       "      <th>Low</th>\n",
       "      <th>Open</th>\n",
       "      <th>Volume</th>\n",
       "      <th>Close</th>\n",
       "      <th>High</th>\n",
       "      <th>Low</th>\n",
       "      <th>Open</th>\n",
       "      <th>Volume</th>\n",
       "    </tr>\n",
       "    <tr>\n",
       "      <th>Date</th>\n",
       "      <th></th>\n",
       "      <th></th>\n",
       "      <th></th>\n",
       "      <th></th>\n",
       "      <th></th>\n",
       "      <th></th>\n",
       "      <th></th>\n",
       "      <th></th>\n",
       "      <th></th>\n",
       "      <th></th>\n",
       "      <th></th>\n",
       "      <th></th>\n",
       "      <th></th>\n",
       "      <th></th>\n",
       "      <th></th>\n",
       "      <th></th>\n",
       "      <th></th>\n",
       "      <th></th>\n",
       "      <th></th>\n",
       "      <th></th>\n",
       "      <th></th>\n",
       "    </tr>\n",
       "  </thead>\n",
       "  <tbody>\n",
       "    <tr>\n",
       "      <th>2006-03-27</th>\n",
       "      <td>1.790870</td>\n",
       "      <td>1.847145</td>\n",
       "      <td>1.787560</td>\n",
       "      <td>1.816148</td>\n",
       "      <td>1108072000</td>\n",
       "      <td>50.995205</td>\n",
       "      <td>51.176585</td>\n",
       "      <td>50.409216</td>\n",
       "      <td>50.751043</td>\n",
       "      <td>5824900</td>\n",
       "      <td>...</td>\n",
       "      <td>26.269537</td>\n",
       "      <td>26.292878</td>\n",
       "      <td>25.732708</td>\n",
       "      <td>25.919431</td>\n",
       "      <td>4527400</td>\n",
       "      <td>10.771452</td>\n",
       "      <td>10.850076</td>\n",
       "      <td>10.760221</td>\n",
       "      <td>10.825366</td>\n",
       "      <td>25991400</td>\n",
       "    </tr>\n",
       "    <tr>\n",
       "      <th>2006-03-28</th>\n",
       "      <td>1.766796</td>\n",
       "      <td>1.809829</td>\n",
       "      <td>1.752952</td>\n",
       "      <td>1.794481</td>\n",
       "      <td>1370322800</td>\n",
       "      <td>50.653378</td>\n",
       "      <td>51.497484</td>\n",
       "      <td>50.402238</td>\n",
       "      <td>51.218439</td>\n",
       "      <td>9298900</td>\n",
       "      <td>...</td>\n",
       "      <td>25.645187</td>\n",
       "      <td>26.111994</td>\n",
       "      <td>25.417620</td>\n",
       "      <td>26.053644</td>\n",
       "      <td>5734800</td>\n",
       "      <td>10.726527</td>\n",
       "      <td>10.854571</td>\n",
       "      <td>10.706310</td>\n",
       "      <td>10.771454</td>\n",
       "      <td>30132900</td>\n",
       "    </tr>\n",
       "    <tr>\n",
       "      <th>2006-03-29</th>\n",
       "      <td>1.875734</td>\n",
       "      <td>1.881452</td>\n",
       "      <td>1.735498</td>\n",
       "      <td>1.779435</td>\n",
       "      <td>2346834000</td>\n",
       "      <td>50.241776</td>\n",
       "      <td>51.030077</td>\n",
       "      <td>50.095278</td>\n",
       "      <td>50.667317</td>\n",
       "      <td>6687100</td>\n",
       "      <td>...</td>\n",
       "      <td>25.674360</td>\n",
       "      <td>25.872753</td>\n",
       "      <td>25.633515</td>\n",
       "      <td>25.732710</td>\n",
       "      <td>3052700</td>\n",
       "      <td>10.793917</td>\n",
       "      <td>10.823120</td>\n",
       "      <td>10.670365</td>\n",
       "      <td>10.737757</td>\n",
       "      <td>26045400</td>\n",
       "    </tr>\n",
       "    <tr>\n",
       "      <th>2006-03-30</th>\n",
       "      <td>1.888373</td>\n",
       "      <td>1.904924</td>\n",
       "      <td>1.851659</td>\n",
       "      <td>1.890479</td>\n",
       "      <td>1390650800</td>\n",
       "      <td>50.660351</td>\n",
       "      <td>51.148675</td>\n",
       "      <td>50.311546</td>\n",
       "      <td>50.332474</td>\n",
       "      <td>7623500</td>\n",
       "      <td>...</td>\n",
       "      <td>25.394274</td>\n",
       "      <td>25.721039</td>\n",
       "      <td>25.306747</td>\n",
       "      <td>25.569326</td>\n",
       "      <td>3189000</td>\n",
       "      <td>10.706310</td>\n",
       "      <td>10.823122</td>\n",
       "      <td>10.627686</td>\n",
       "      <td>10.793919</td>\n",
       "      <td>29380800</td>\n",
       "    </tr>\n",
       "    <tr>\n",
       "      <th>2006-03-31</th>\n",
       "      <td>1.887471</td>\n",
       "      <td>1.914254</td>\n",
       "      <td>1.873026</td>\n",
       "      <td>1.903421</td>\n",
       "      <td>815357200</td>\n",
       "      <td>50.751030</td>\n",
       "      <td>51.169594</td>\n",
       "      <td>50.688248</td>\n",
       "      <td>50.848695</td>\n",
       "      <td>8828100</td>\n",
       "      <td>...</td>\n",
       "      <td>25.166706</td>\n",
       "      <td>25.557655</td>\n",
       "      <td>25.108354</td>\n",
       "      <td>25.405944</td>\n",
       "      <td>3325900</td>\n",
       "      <td>10.611959</td>\n",
       "      <td>10.769206</td>\n",
       "      <td>10.602973</td>\n",
       "      <td>10.769206</td>\n",
       "      <td>30273000</td>\n",
       "    </tr>\n",
       "    <tr>\n",
       "      <th>...</th>\n",
       "      <td>...</td>\n",
       "      <td>...</td>\n",
       "      <td>...</td>\n",
       "      <td>...</td>\n",
       "      <td>...</td>\n",
       "      <td>...</td>\n",
       "      <td>...</td>\n",
       "      <td>...</td>\n",
       "      <td>...</td>\n",
       "      <td>...</td>\n",
       "      <td>...</td>\n",
       "      <td>...</td>\n",
       "      <td>...</td>\n",
       "      <td>...</td>\n",
       "      <td>...</td>\n",
       "      <td>...</td>\n",
       "      <td>...</td>\n",
       "      <td>...</td>\n",
       "      <td>...</td>\n",
       "      <td>...</td>\n",
       "      <td>...</td>\n",
       "    </tr>\n",
       "    <tr>\n",
       "      <th>2025-03-20</th>\n",
       "      <td>214.100006</td>\n",
       "      <td>217.490005</td>\n",
       "      <td>212.220001</td>\n",
       "      <td>213.990005</td>\n",
       "      <td>48862900</td>\n",
       "      <td>315.040009</td>\n",
       "      <td>315.989990</td>\n",
       "      <td>312.239990</td>\n",
       "      <td>314.179993</td>\n",
       "      <td>2049700</td>\n",
       "      <td>...</td>\n",
       "      <td>11.120000</td>\n",
       "      <td>11.200000</td>\n",
       "      <td>11.120000</td>\n",
       "      <td>11.160000</td>\n",
       "      <td>12048300</td>\n",
       "      <td>85.574997</td>\n",
       "      <td>86.841523</td>\n",
       "      <td>85.285790</td>\n",
       "      <td>85.574997</td>\n",
       "      <td>18185500</td>\n",
       "    </tr>\n",
       "    <tr>\n",
       "      <th>2025-03-21</th>\n",
       "      <td>218.270004</td>\n",
       "      <td>218.839996</td>\n",
       "      <td>211.279999</td>\n",
       "      <td>211.559998</td>\n",
       "      <td>94127800</td>\n",
       "      <td>316.040009</td>\n",
       "      <td>316.489990</td>\n",
       "      <td>311.160004</td>\n",
       "      <td>311.820007</td>\n",
       "      <td>9995000</td>\n",
       "      <td>...</td>\n",
       "      <td>11.100000</td>\n",
       "      <td>11.190000</td>\n",
       "      <td>11.080000</td>\n",
       "      <td>11.110000</td>\n",
       "      <td>37249800</td>\n",
       "      <td>85.980003</td>\n",
       "      <td>86.230003</td>\n",
       "      <td>84.779999</td>\n",
       "      <td>85.279999</td>\n",
       "      <td>26797200</td>\n",
       "    </tr>\n",
       "    <tr>\n",
       "      <th>2025-03-24</th>\n",
       "      <td>220.729996</td>\n",
       "      <td>221.479996</td>\n",
       "      <td>218.580002</td>\n",
       "      <td>221.000000</td>\n",
       "      <td>44299500</td>\n",
       "      <td>314.380005</td>\n",
       "      <td>317.579987</td>\n",
       "      <td>313.429993</td>\n",
       "      <td>315.000000</td>\n",
       "      <td>2439400</td>\n",
       "      <td>...</td>\n",
       "      <td>11.150000</td>\n",
       "      <td>11.150000</td>\n",
       "      <td>11.090000</td>\n",
       "      <td>11.120000</td>\n",
       "      <td>12137700</td>\n",
       "      <td>87.489998</td>\n",
       "      <td>87.650002</td>\n",
       "      <td>86.349998</td>\n",
       "      <td>86.470001</td>\n",
       "      <td>17900700</td>\n",
       "    </tr>\n",
       "    <tr>\n",
       "      <th>2025-03-25</th>\n",
       "      <td>223.750000</td>\n",
       "      <td>224.100006</td>\n",
       "      <td>220.080002</td>\n",
       "      <td>220.770004</td>\n",
       "      <td>34493600</td>\n",
       "      <td>306.859985</td>\n",
       "      <td>314.220001</td>\n",
       "      <td>303.510010</td>\n",
       "      <td>313.980011</td>\n",
       "      <td>2565300</td>\n",
       "      <td>...</td>\n",
       "      <td>11.120000</td>\n",
       "      <td>11.170000</td>\n",
       "      <td>11.120000</td>\n",
       "      <td>11.150000</td>\n",
       "      <td>7945800</td>\n",
       "      <td>84.760002</td>\n",
       "      <td>87.309998</td>\n",
       "      <td>84.620003</td>\n",
       "      <td>86.760002</td>\n",
       "      <td>27908600</td>\n",
       "    </tr>\n",
       "    <tr>\n",
       "      <th>2025-03-26</th>\n",
       "      <td>221.529999</td>\n",
       "      <td>225.020004</td>\n",
       "      <td>220.470001</td>\n",
       "      <td>223.509995</td>\n",
       "      <td>34466100</td>\n",
       "      <td>305.709991</td>\n",
       "      <td>309.089996</td>\n",
       "      <td>304.350006</td>\n",
       "      <td>306.440002</td>\n",
       "      <td>2375200</td>\n",
       "      <td>...</td>\n",
       "      <td>11.100000</td>\n",
       "      <td>11.150000</td>\n",
       "      <td>11.100000</td>\n",
       "      <td>11.120000</td>\n",
       "      <td>9880500</td>\n",
       "      <td>85.209999</td>\n",
       "      <td>85.559998</td>\n",
       "      <td>84.570000</td>\n",
       "      <td>85.190002</td>\n",
       "      <td>27228800</td>\n",
       "    </tr>\n",
       "  </tbody>\n",
       "</table>\n",
       "<p>4781 rows × 150 columns</p>\n",
       "</div>"
      ],
      "text/plain": [
       "Ticker            AAPL                                                  \\\n",
       "Price            Close        High         Low        Open      Volume   \n",
       "Date                                                                     \n",
       "2006-03-27    1.790870    1.847145    1.787560    1.816148  1108072000   \n",
       "2006-03-28    1.766796    1.809829    1.752952    1.794481  1370322800   \n",
       "2006-03-29    1.875734    1.881452    1.735498    1.779435  2346834000   \n",
       "2006-03-30    1.888373    1.904924    1.851659    1.890479  1390650800   \n",
       "2006-03-31    1.887471    1.914254    1.873026    1.903421   815357200   \n",
       "...                ...         ...         ...         ...         ...   \n",
       "2025-03-20  214.100006  217.490005  212.220001  213.990005    48862900   \n",
       "2025-03-21  218.270004  218.839996  211.279999  211.559998    94127800   \n",
       "2025-03-24  220.729996  221.479996  218.580002  221.000000    44299500   \n",
       "2025-03-25  223.750000  224.100006  220.080002  220.770004    34493600   \n",
       "2025-03-26  221.529999  225.020004  220.470001  223.509995    34466100   \n",
       "\n",
       "Ticker            AMGN                                               ...  \\\n",
       "Price            Close        High         Low        Open   Volume  ...   \n",
       "Date                                                                 ...   \n",
       "2006-03-27   50.995205   51.176585   50.409216   50.751043  5824900  ...   \n",
       "2006-03-28   50.653378   51.497484   50.402238   51.218439  9298900  ...   \n",
       "2006-03-29   50.241776   51.030077   50.095278   50.667317  6687100  ...   \n",
       "2006-03-30   50.660351   51.148675   50.311546   50.332474  7623500  ...   \n",
       "2006-03-31   50.751030   51.169594   50.688248   50.848695  8828100  ...   \n",
       "...                ...         ...         ...         ...      ...  ...   \n",
       "2025-03-20  315.040009  315.989990  312.239990  314.179993  2049700  ...   \n",
       "2025-03-21  316.040009  316.489990  311.160004  311.820007  9995000  ...   \n",
       "2025-03-24  314.380005  317.579987  313.429993  315.000000  2439400  ...   \n",
       "2025-03-25  306.859985  314.220001  303.510010  313.980011  2565300  ...   \n",
       "2025-03-26  305.709991  309.089996  304.350006  306.440002  2375200  ...   \n",
       "\n",
       "Ticker            WBA                                                   WMT  \\\n",
       "Price           Close       High        Low       Open    Volume      Close   \n",
       "Date                                                                          \n",
       "2006-03-27  26.269537  26.292878  25.732708  25.919431   4527400  10.771452   \n",
       "2006-03-28  25.645187  26.111994  25.417620  26.053644   5734800  10.726527   \n",
       "2006-03-29  25.674360  25.872753  25.633515  25.732710   3052700  10.793917   \n",
       "2006-03-30  25.394274  25.721039  25.306747  25.569326   3189000  10.706310   \n",
       "2006-03-31  25.166706  25.557655  25.108354  25.405944   3325900  10.611959   \n",
       "...               ...        ...        ...        ...       ...        ...   \n",
       "2025-03-20  11.120000  11.200000  11.120000  11.160000  12048300  85.574997   \n",
       "2025-03-21  11.100000  11.190000  11.080000  11.110000  37249800  85.980003   \n",
       "2025-03-24  11.150000  11.150000  11.090000  11.120000  12137700  87.489998   \n",
       "2025-03-25  11.120000  11.170000  11.120000  11.150000   7945800  84.760002   \n",
       "2025-03-26  11.100000  11.150000  11.100000  11.120000   9880500  85.209999   \n",
       "\n",
       "Ticker                                                 \n",
       "Price            High        Low       Open    Volume  \n",
       "Date                                                   \n",
       "2006-03-27  10.850076  10.760221  10.825366  25991400  \n",
       "2006-03-28  10.854571  10.706310  10.771454  30132900  \n",
       "2006-03-29  10.823120  10.670365  10.737757  26045400  \n",
       "2006-03-30  10.823122  10.627686  10.793919  29380800  \n",
       "2006-03-31  10.769206  10.602973  10.769206  30273000  \n",
       "...               ...        ...        ...       ...  \n",
       "2025-03-20  86.841523  85.285790  85.574997  18185500  \n",
       "2025-03-21  86.230003  84.779999  85.279999  26797200  \n",
       "2025-03-24  87.650002  86.349998  86.470001  17900700  \n",
       "2025-03-25  87.309998  84.620003  86.760002  27908600  \n",
       "2025-03-26  85.559998  84.570000  85.190002  27228800  \n",
       "\n",
       "[4781 rows x 150 columns]"
      ]
     },
     "execution_count": 3,
     "metadata": {},
     "output_type": "execute_result"
    }
   ],
   "source": [
    "#df = raw_df[-300:]\n",
    "df\n"
   ]
  },
  {
   "cell_type": "code",
   "execution_count": 4,
   "metadata": {},
   "outputs": [],
   "source": [
    "horizon_len = 7\n",
    "patch_len = 32\n",
    "patch_num = 20\n",
    "batch_size = 32\n",
    "hidden_size = 128\n",
    "channels = ['Close', 'Volume'] #['Close', 'High','Low',\t'Open',\t'Volume']"
   ]
  },
  {
   "cell_type": "code",
   "execution_count": 5,
   "metadata": {},
   "outputs": [],
   "source": [
    "def get_model(load_weights: bool = False, horizon_len: int = 7):\n",
    "  device = \"cuda\" if torch.cuda.is_available() else \"cpu\"\n",
    "  repo_id = \"google/timesfm-2.0-500m-pytorch\"\n",
    "  hparams = TimesFmHparams(\n",
    "      backend=device,\n",
    "      per_core_batch_size=32,\n",
    "      horizon_len=horizon_len,\n",
    "      num_layers=50,\n",
    "      use_positional_embedding=False,\n",
    "      context_len=2048,  # Context length can be anything up to 2048 in multiples of 32\n",
    "      input_patch_len=patch_len\n",
    "  )\n",
    "  tfm = TimesFm(hparams=hparams,\n",
    "                checkpoint=TimesFmCheckpoint(huggingface_repo_id=repo_id))\n",
    "\n",
    "  model = PatchedTimeSeriesDecoder(tfm._model_config)\n",
    "  if load_weights:\n",
    "    checkpoint_path = path.join(snapshot_download(repo_id), \"torch_model.ckpt\")\n",
    "    loaded_checkpoint = torch.load(checkpoint_path, weights_only=True)\n",
    "    model.load_state_dict(loaded_checkpoint)\n",
    "  return model, hparams, tfm._model_config"
   ]
  },
  {
   "cell_type": "code",
   "execution_count": 6,
   "metadata": {},
   "outputs": [],
   "source": [
    "from deepdow.utils import raw_to_Xy\n",
    "\n",
    "\n",
    "n_timesteps = len(df)  # 20\n",
    "n_channels = len(channels)  # 2\n",
    "n_assets = len(df.columns.levels[0])  # 2\n",
    "\n",
    "lookback, gap, horizon = patch_len*patch_num, 2, horizon_len\n",
    "\n",
    "X, timestamps, y, asset_names, indicators = raw_to_Xy(df,\n",
    "                                                      lookback=lookback,\n",
    "                                                      gap=gap,\n",
    "                                                      freq=\"B\",\n",
    "                                                      horizon=horizon,\n",
    "                                                      included_indicators=channels)\n",
    "\n",
    "n_samples =  n_timesteps - lookback - horizon - gap + 1  # 10\n",
    "\n",
    "# assert X.shape == (n_samples, n_channels, lookback, n_assets)\n",
    "# assert timestamps[0] == raw_df.index[lookback]\n",
    "# assert asset_names == tickers\n",
    "# assert indicators == ['Close', 'High', 'Low', 'Open', 'Volume']"
   ]
  },
  {
   "cell_type": "code",
   "execution_count": 7,
   "metadata": {},
   "outputs": [
    {
     "name": "stdout",
     "output_type": "stream",
     "text": [
      "X: (4286, 5, 640, 30), y: (4286, 5, 30, 30)\n"
     ]
    }
   ],
   "source": [
    "print('X: {}, y: {}'.format(X.shape, y.shape))"
   ]
  },
  {
   "cell_type": "code",
   "execution_count": 8,
   "metadata": {},
   "outputs": [
    {
     "data": {
      "text/plain": [
       "4110"
      ]
     },
     "execution_count": 8,
     "metadata": {},
     "output_type": "execute_result"
    }
   ],
   "source": [
    "n_samples"
   ]
  },
  {
   "cell_type": "code",
   "execution_count": 9,
   "metadata": {},
   "outputs": [
    {
     "name": "stdout",
     "output_type": "stream",
     "text": [
      "Train range: 0:3903\n",
      "Test range: 3934:4109\n"
     ]
    }
   ],
   "source": [
    "split_ix = int(n_samples * 0.95)\n",
    "indices_train = list(range(split_ix))\n",
    "#indices_test = list(range(split_ix + lookback + horizon, n_samples))\n",
    "indices_test = list(range(split_ix + horizon, n_samples))\n",
    "\n",
    "print('Train range: {}:{}\\nTest range: {}:{}'.format(indices_train[0], indices_train[-1],\n",
    "                                                     indices_test[0], indices_test[-1]))"
   ]
  },
  {
   "cell_type": "code",
   "execution_count": 10,
   "metadata": {},
   "outputs": [
    {
     "data": {
      "text/plain": [
       "[<matplotlib.lines.Line2D at 0x7f9c5a1c2790>]"
      ]
     },
     "execution_count": 10,
     "metadata": {},
     "output_type": "execute_result"
    },
    {
     "data": {
      "image/png": "[encoded data removed]",
      "text/plain": [
       "<Figure size 640x480 with 1 Axes>"
      ]
     },
     "metadata": {},
     "output_type": "display_data"
    }
   ],
   "source": [
    "plt.plot(X[1, 1, :, 1])"
   ]
  },
  {
   "cell_type": "code",
   "execution_count": 11,
   "metadata": {},
   "outputs": [
    {
     "name": "stdout",
     "output_type": "stream",
     "text": [
      "mean: [ 0.00041615  0.00041877  0.0004205   0.00042053 -0.00024219], std: [0.01774467 0.0150831  0.01676391 0.01743764 0.34207168]\n"
     ]
    }
   ],
   "source": [
    "means, stds = prepare_standard_scaler(X, indices=indices_train)\n",
    "print('mean: {}, std: {}'.format(means, stds))"
   ]
  },
  {
   "cell_type": "code",
   "execution_count": 12,
   "metadata": {},
   "outputs": [],
   "source": [
    "dataset = InRAMDataset(X, y, transform=Scale(means, stds))"
   ]
  },
  {
   "cell_type": "code",
   "execution_count": 13,
   "metadata": {},
   "outputs": [],
   "source": [
    "dataloader_train = RigidDataLoader(dataset,\n",
    "                                   indices=indices_train,\n",
    "                                   batch_size=batch_size)\n",
    "\n",
    "dataloader_test = RigidDataLoader(dataset,\n",
    "                                  indices=indices_test,\n",
    "                                  batch_size=batch_size)"
   ]
  },
  {
   "cell_type": "code",
   "execution_count": 14,
   "metadata": {},
   "outputs": [],
   "source": [
    "device = 'cuda'"
   ]
  },
  {
   "cell_type": "code",
   "execution_count": 15,
   "metadata": {},
   "outputs": [
    {
     "data": {
      "application/vnd.jupyter.widget-view+json": {
       "model_id": "8d51de9e0367449eac3b828cda7bcb21",
       "version_major": 2,
       "version_minor": 0
      },
      "text/plain": [
       "Fetching 5 files:   0%|          | 0/5 [00:00<?, ?it/s]"
      ]
     },
     "metadata": {},
     "output_type": "display_data"
    },
    {
     "data": {
      "application/vnd.jupyter.widget-view+json": {
       "model_id": "a18f4604265e45ae94937d0c26408e8d",
       "version_major": 2,
       "version_minor": 0
      },
      "text/plain": [
       "Fetching 5 files:   0%|          | 0/5 [00:00<?, ?it/s]"
      ]
     },
     "metadata": {},
     "output_type": "display_data"
    },
    {
     "data": {
      "text/plain": [
       "PatchedTimeSeriesDecoder(\n",
       "  (input_ff_layer): ResidualBlock(\n",
       "    (hidden_layer): Sequential(\n",
       "      (0): Linear(in_features=64, out_features=1280, bias=True)\n",
       "      (1): SiLU()\n",
       "    )\n",
       "    (output_layer): Linear(in_features=1280, out_features=1280, bias=True)\n",
       "    (residual_layer): Linear(in_features=64, out_features=1280, bias=True)\n",
       "  )\n",
       "  (freq_emb): Embedding(3, 1280)\n",
       "  (horizon_ff_layer): ResidualBlock(\n",
       "    (hidden_layer): Sequential(\n",
       "      (0): Linear(in_features=1280, out_features=1280, bias=True)\n",
       "      (1): SiLU()\n",
       "    )\n",
       "    (output_layer): Linear(in_features=1280, out_features=1280, bias=True)\n",
       "    (residual_layer): Linear(in_features=1280, out_features=1280, bias=True)\n",
       "  )\n",
       "  (stacked_transformer): StackedDecoder(\n",
       "    (layers): ModuleList(\n",
       "      (0-49): 50 x TimesFMDecoderLayer(\n",
       "        (self_attn): TimesFMAttention(\n",
       "          (qkv_proj): Linear(in_features=1280, out_features=3840, bias=True)\n",
       "          (o_proj): Linear(in_features=1280, out_features=1280, bias=True)\n",
       "        )\n",
       "        (mlp): TransformerMLP(\n",
       "          (gate_proj): Linear(in_features=1280, out_features=1280, bias=True)\n",
       "          (down_proj): Linear(in_features=1280, out_features=1280, bias=True)\n",
       "          (layer_norm): LayerNorm((1280,), eps=1e-06, elementwise_affine=True)\n",
       "        )\n",
       "        (input_layernorm): RMSNorm()\n",
       "      )\n",
       "    )\n",
       "  )\n",
       ")"
      ]
     },
     "execution_count": 7,
     "metadata": {},
     "output_type": "execute_result"
    }
   ],
   "source": [
    "sfm_model, a, b = get_model(load_weights=True)\n",
    "sfm_model.to('cuda')"
   ]
  },
  {
   "cell_type": "code",
   "execution_count": 28,
   "metadata": {},
   "outputs": [],
   "source": [
    "from deepdow.utils import raw_to_Xy\n",
    "\n",
    "\n",
    "n_timesteps = len(df)  # 20\n",
    "n_channels = len(channels)  # 2\n",
    "#n_assets = len(df.columns.levels[0])  # 2\n",
    "\n",
    "lookback, gap, horizon = patch_len*patch_num, 2, horizon_len\n",
    "\n",
    "X, g_timestamps, y, asset_names, indicators = raw_to_Xy(df,\n",
    "                                                      lookback=lookback,\n",
    "                                                      gap=gap,\n",
    "                                                      freq=\"B\",\n",
    "                                                      horizon=horizon,\n",
    "                                                      included_indicators=channels)\n",
    "\n",
    "n_samples =  n_timesteps - lookback - horizon - gap + 1  # 10\n",
    "n_assets = len(asset_names)\n",
    "# assert X.shape == (n_samples, n_channels, lookback, n_assets)\n",
    "# assert timestamps[0] == raw_df.index[lookback]\n",
    "# assert asset_names == tickers\n",
    "# assert indicators == ['Close', 'High', 'Low', 'Open', 'Volume']"
   ]
  },
  {
   "cell_type": "code",
   "execution_count": 9,
   "metadata": {},
   "outputs": [
    {
     "name": "stdout",
     "output_type": "stream",
     "text": [
      "X: (4309, 2, 640, 30), y: (4309, 2, 7, 30)\n"
     ]
    }
   ],
   "source": [
    "print('X: {}, y: {}'.format(X.shape, y.shape))"
   ]
  },
  {
   "cell_type": "code",
   "execution_count": 10,
   "metadata": {},
   "outputs": [
    {
     "data": {
      "text/plain": [
       "4133"
      ]
     },
     "execution_count": 10,
     "metadata": {},
     "output_type": "execute_result"
    }
   ],
   "source": [
    "n_samples"
   ]
  },
  {
   "cell_type": "code",
   "execution_count": 11,
   "metadata": {},
   "outputs": [
    {
     "name": "stdout",
     "output_type": "stream",
     "text": [
      "Train range: 0:4028\n",
      "Test range: 4036:4132\n"
     ]
    }
   ],
   "source": [
    "split_ix = int(n_samples * 0.975)\n",
    "indices_train = list(range(split_ix))\n",
    "indices_test = list(range(split_ix + horizon, n_samples))\n",
    "\n",
    "print('Train range: {}:{}\\nTest range: {}:{}'.format(indices_train[0], indices_train[-1],\n",
    "                                                     indices_test[0], indices_test[-1]))"
   ]
  },
  {
   "cell_type": "code",
   "execution_count": 12,
   "metadata": {},
   "outputs": [
    {
     "data": {
      "text/plain": [
       "[<matplotlib.lines.Line2D at 0x7f305c12c150>]"
      ]
     },
     "execution_count": 12,
     "metadata": {},
     "output_type": "execute_result"
    },
    {
     "data": {
      "image/png": "[encoded data removed]",
      "text/plain": [
       "<Figure size 640x480 with 1 Axes>"
      ]
     },
     "metadata": {},
     "output_type": "display_data"
    }
   ],
   "source": [
    "plt.plot(X[1, 1, :, 1])"
   ]
  },
  {
   "cell_type": "code",
   "execution_count": 13,
   "metadata": {},
   "outputs": [
    {
     "name": "stdout",
     "output_type": "stream",
     "text": [
      "mean: [ 0.00043403 -0.00022286], std: [0.01764646 0.3423143 ]\n"
     ]
    }
   ],
   "source": [
    "means, stds = prepare_standard_scaler(X, indices=indices_train)\n",
    "print('mean: {}, std: {}'.format(means, stds))"
   ]
  },
  {
   "cell_type": "code",
   "execution_count": 14,
   "metadata": {},
   "outputs": [],
   "source": [
    "dataset = InRAMDataset(X, y, transform=Scale(means, stds))"
   ]
  },
  {
   "cell_type": "code",
   "execution_count": 15,
   "metadata": {},
   "outputs": [],
   "source": [
    "dataloader_train = RigidDataLoader(dataset,\n",
    "                                   indices=indices_train,\n",
    "                                   batch_size=batch_size)\n",
    "\n",
    "dataloader_test = RigidDataLoader(dataset,\n",
    "                                  indices=indices_test,\n",
    "                                  batch_size=batch_size)"
   ]
  },
  {
   "cell_type": "code",
   "execution_count": 16,
   "metadata": {},
   "outputs": [],
   "source": [
    "device = 'cuda'"
   ]
  },
  {
   "cell_type": "code",
   "execution_count": 17,
   "metadata": {},
   "outputs": [],
   "source": [
    "class GreatNet(torch.nn.Module, Benchmark):\n",
    "    def __init__(self, n_assets, lookback, channels, hidden_size = 128, p=0.1, max_weight=1., n_output_channels = 4):\n",
    "        super().__init__()\n",
    "\n",
    "        super().__init__()\n",
    "\n",
    "        n_features =  patch_num * 128 # 输入特征数\n",
    "        \n",
    "     \n",
    "        self.CollapseChannel = Conv(n_input_channels=channels,\n",
    "             n_output_channels=1,\n",
    "             kernel_size=3,\n",
    "             method='2D')\n",
    "        layers = []\n",
    "\n",
    "        layers.append(nn.Linear(channels, 1))\n",
    "        layers.append(nn.ReLU())\n",
    "        self.CollapseChannel = nn.Sequential(*layers)\n",
    "        \n",
    "        # self.CollapseSFM = Conv(n_input_channels=n_features,\n",
    "        #      n_output_channels=hidden_size,\n",
    "        #      kernel_size=3,\n",
    "        #      method='1D')\n",
    "        \n",
    "        # self.CollapseSFM_2 = Conv(n_input_channels=hidden_size,\n",
    "        #      n_output_channels=1,\n",
    "        #      kernel_size=3,\n",
    "        #      method='1D')\n",
    "        # 参数\n",
    "        d_model = 128  # 隐藏维度\n",
    "        nhead = 8      # 注意力头数\n",
    "        num_encoder_layers = 6  # 编码器层数\n",
    "        num_decoder_layers = 6  # 解码器层数\n",
    "        dim_feedforward = 2048  # 前馈层中间维度\n",
    "        self.decode_layer = nn.TransformerDecoderLayer(\n",
    "                d_model=d_model,\n",
    "                nhead=nhead,\n",
    "                dim_feedforward=dim_feedforward,\n",
    "                dropout=p,\n",
    "                batch_first=True\n",
    "            )\n",
    "        self.decoder = nn.TransformerDecoder(self.decoder_layer, num_layers=num_decoder_layers)\n",
    "        layers = []\n",
    "\n",
    "        layers.append(nn.Linear(n_features, 1))\n",
    "        layers.append(nn.ReLU())\n",
    "        self.CollapseSFM = nn.Sequential(*layers)\n",
    "        \n",
    "        self.layer_L3 = AverageCollapse()\n",
    "        self.layer_L4 = CovarianceMatrix(sqrt=False)\n",
    "        self.layer_L5 = NumericalMarkowitz(n_assets)\n",
    "        # Dropout 层\n",
    "        self.dropout_layer = nn.Dropout(p=p)\n",
    "        \n",
    "        # 10 层网络\n",
    "        layers = []\n",
    "        # 第 1 层：输入层\n",
    "        layers.append(nn.Linear(patch_num*1280, hidden_size))\n",
    "        layers.append(nn.ReLU())\n",
    "        \n",
    "        \n",
    "        # 将所有层组合成 Sequential\n",
    "        self.network = nn.Sequential(*layers)\n",
    "        self.dense_layer = torch.nn.Linear(n_features, n_assets, bias=True)\n",
    "        # Softmax 分配层和温度参数\n",
    "        self.allocate_layer = SoftmaxAllocator(temperature=None, n_assets= n_assets, formulation='variational', max_weight=0.5)\n",
    "        self.temperature = nn.Parameter(torch.ones(1), requires_grad=True)\n",
    "        \n",
    "\n",
    "    def forward(self, x):\n",
    "        \"\"\"Perform forward pass.\n",
    "\n",
    "        Parameters\n",
    "        ----------\n",
    "        x : torch.Tensor\n",
    "            Of shape (n_samples, 1, lookback, n_assets).\n",
    "\n",
    "        Returns\n",
    "        -------\n",
    "        weights : torch.Torch\n",
    "            Tensor of shape (n_samples, n_assets).\n",
    "\n",
    "        \"\"\"\n",
    "        n_samples, channels, lookback, n_assets = x.shape\n",
    "        # x = x.permute(0, 3, 1, 2)\n",
    "        # x = x.reshape(n_samples, n_assets*channels, -1) \n",
    "        with torch.no_grad():\n",
    "            xx_list = []\n",
    "            for i in range(channels):\n",
    "                xx = x[:,i,:,:].squeeze(1)\n",
    "                xx = xx.permute(0, 2, 1)\n",
    "                xx = xx.contiguous()\n",
    "                input_padding = torch.zeros_like(xx).to(device)\n",
    "                freq = torch.tensor([0], dtype=torch.long).to(device)\n",
    "                xx = sfm_model(xx, input_padding, freq)\n",
    "                xx = xx[:,:,:,5]\n",
    "                #xx = xx.squeeze(2)\n",
    "                #xx = xx.unsqueeze(1) # B, 1, n_assets*patch_num, 128\n",
    "                \n",
    "                xx_list.append(xx)\n",
    "        x = self.decode_layer(xx)\n",
    "        x = torch.cat(xx_list, dim=1) # B, channels, n_assets*patch_num, 128\n",
    "        x = x.view(n_samples, channels, n_assets, patch_num*128)  # \n",
    "        x = x.permute(0,2,3,1) # B, n_assets, patch_num*128, channels,   ## B, channels, patch_num*128, n_assets\n",
    "        #x = x.reshape(n_samples, n_assets, channels*patch_num*128) # B, n_assets, channels*patch_num*128\n",
    "        x = self.CollapseChannel(x) # B,  n_assets,  patch_num*128, 1\n",
    "        x = self.dropout_layer(x)\n",
    "        x = x.squeeze(-1)\n",
    "        \n",
    "\n",
    "        x = self.CollapseSFM(x) # B,  n_assets,   1\n",
    "        x = self.dropout_layer(x)\n",
    "        \n",
    "        # x = self.CollapseSFM_2(x)\n",
    "        # x = self.dropout_layer(x)\n",
    "        \n",
    "        x = x.squeeze(-1)\n",
    "        \n",
    "        #x = self.dense_layer(x)\n",
    "        # 计算权重\n",
    "        temperatures = torch.ones(n_samples).to(device=x.device, dtype=x.dtype) * self.temperature\n",
    "        weights = self.allocate_layer(x, temperatures)\n",
    "\n",
    "        return weights"
   ]
  },
  {
   "cell_type": "code",
   "execution_count": 17,
   "metadata": {},
   "outputs": [],
   "source": [
    "from curses import meta\n",
    "\n",
    "current_timestamps = None\n",
    "class DeepCallback(Callback):\n",
    "    def __init__(self, model, hparams, config):\n",
    "        super().__init__()\n",
    "        self.model = model\n",
    "        self.hparams = hparams\n",
    "        self.config = config\n",
    "        self.embedding_layer = nn.Linear(5, 128)\n",
    "    def on_batch_begin(self, metadata):\n",
    "        global current_timestamps\n",
    "        global g_timestamps\n",
    "        timestamps = metadata['timestamps']\n",
    "        \n",
    "        features = [[ts.year, ts.month, ts.day, ts.hour, ts.minute] for ts in g_timestamps[timestamps]]\n",
    "        current_timestamps = torch.tensor(features, dtype=torch.float32).to(device)\n",
    "        current_timestamps = self.embedding_layer(current_timestamps)\n",
    "\n",
    "        return "
   ]
  },
  {
   "cell_type": "code",
   "execution_count": 30,
   "metadata": {},
   "outputs": [],
   "source": [
    "\n",
    "from torch import dropout\n",
    "\n",
    "\n",
    "class DeepNet(torch.nn.Module, Benchmark):\n",
    "    def __init__(self, n_assets, lookback, channels, hidden_size = 128, p=0.4, max_weight=1., n_output_channels = 4):\n",
    "        super().__init__()\n",
    "\n",
    "        super().__init__()\n",
    "\n",
    "        n_features =  patch_num * 128 # 输入特征数\n",
    "        \n",
    "     \n",
    "        self.CollapseChannel = Conv(n_input_channels=channels,\n",
    "             n_output_channels=1,\n",
    "             kernel_size=3,\n",
    "             method='2D')\n",
    "        \n",
    "        self.embedding_layer_2 = nn.Linear(n_assets*channels, n_assets*32, bias=True)\n",
    "        self.embedding_layer_1 = nn.Linear(n_assets*channels, n_assets*32, bias=True)\n",
    "        # 参数\n",
    "        d_model = n_assets*32  # 隐藏维度\n",
    "        nhead = 4      # 注意力头数\n",
    "        num_encoder_layers = 4  # 编码器层数\n",
    "        num_decoder_layers = 4  # 解码器层数\n",
    "        dim_feedforward = 2048  # 前馈层中间维度\n",
    "        dropout = 0.2\n",
    "        self.encoder_layer = nn.TransformerEncoderLayer(\n",
    "                d_model=d_model,\n",
    "                nhead=nhead,\n",
    "                dim_feedforward=dim_feedforward,\n",
    "                dropout=dropout,\n",
    "                batch_first=True\n",
    "            )\n",
    "        self.decoder_layer = nn.TransformerDecoderLayer(\n",
    "                d_model=d_model,\n",
    "                nhead=nhead,\n",
    "                dim_feedforward=dim_feedforward,\n",
    "                dropout=dropout,\n",
    "                batch_first=True\n",
    "            )\n",
    "        self.decoder = nn.TransformerDecoder(self.decoder_layer, num_layers=num_decoder_layers)\n",
    "        self.encoder = nn.TransformerEncoder(self.encoder_layer, num_layers=num_encoder_layers)\n",
    "        layers = []\n",
    "\n",
    "        layers.append(nn.Linear(n_features, 1))\n",
    "        layers.append(nn.ReLU())\n",
    "        self.CollapseSFM = nn.Sequential(*layers)\n",
    "        \n",
    "        self.layer_L3 = AverageCollapse()\n",
    "        self.layer_L4 = CovarianceMatrix(sqrt=False)\n",
    "        self.layer_L5 = NumericalMarkowitz(n_assets)\n",
    "        # Dropout 层\n",
    "        self.dropout_layer = nn.Dropout(p=p)\n",
    "        \n",
    "        # 10 层网络\n",
    "        layers = []\n",
    "        # 第 1 层：输入层\n",
    "        layers.append(nn.Linear(patch_num*1280, hidden_size))\n",
    "        layers.append(nn.ReLU())\n",
    "        \n",
    "        \n",
    "        # 将所有层组合成 Sequential\n",
    "        self.network = nn.Sequential(*layers)\n",
    "        self.dense_layer = torch.nn.Linear(d_model//n_assets * lookback, 1, bias=True)\n",
    "        self.dense_layer_2 = torch.nn.Linear(horizon_len*32, 1, bias=True)\n",
    "        \n",
    "        # Softmax 分配层和温度参数\n",
    "        self.allocate_layer = SoftmaxAllocator(temperature=None, n_assets= n_assets, formulation='variational', max_weight=1)\n",
    "        self.temperature = nn.Parameter(torch.ones(1), requires_grad=True)\n",
    "        \n",
    "\n",
    "    def forward(self, x):\n",
    "        global current_timestamps\n",
    "        \"\"\"Perform forward pass.\n",
    "\n",
    "        Parameters\n",
    "        ----------\n",
    "        x : torch.Tensor\n",
    "            Of shape (n_samples, 1, lookback, n_assets).\n",
    "\n",
    "        Returns\n",
    "        -------\n",
    "        weights : torch.Torch\n",
    "            Tensor of shape (n_samples, n_assets).\n",
    "\n",
    "        \"\"\"\n",
    "        n_samples, channels, lookback, n_assets = x.shape\n",
    "        x = x.permute(0, 1, 3, 2)\n",
    "        x = x.reshape(n_samples, channels*n_assets, lookback)\n",
    "        m_list = [] \n",
    "        \n",
    "        for i in range(n_samples):\n",
    "            m = x[i, :,:]\n",
    "            input_padding = torch.zeros_like(m).to(device)\n",
    "            freq = torch.tensor([0], dtype=torch.long).to(device)\n",
    "            with torch.no_grad():\n",
    "                m = sfm_model(m, input_padding, freq) # B, patch_num, 128, 10 (mean +  9 quantiles)\n",
    "            #m = sfm_model(m, input_padding, freq)\n",
    "            m = m[:,:,:,0] # B, patch_num, 128\n",
    "            m = m[:,-1,:] # B, 1, 128 last prediction\n",
    "            m_list.append(m)\n",
    "        m = torch.stack(m_list, dim=0) # B, channels*n_assets, 128\n",
    "        m = m[:,:,0:horizon_len]\n",
    "        m = m.permute(0,2,1) # B, horizon_len, channels*n_assets\n",
    "        m = self.embedding_layer_1(m) # B, horizon_len, n_assets*32\n",
    "    \n",
    "        x = x.permute(0, 2, 1) # B, lookback, n_assets*channels\n",
    "        x = self.embedding_layer_2(x) # B, lookback, n_assets*32\n",
    "        x = self.encoder(x)\n",
    "        x = self.decoder(m, x) # B, horizon_len, n_assets*32\n",
    "        x = x.permute(0, 2, 1)\n",
    "        x = x.reshape(n_samples, n_assets, -1)\n",
    "        \n",
    "        \n",
    "        x = self.dropout_layer(x)\n",
    "        x = self.dense_layer_2(x)\n",
    "        x = x.squeeze(-1)\n",
    "        # 计算权重\n",
    "        temperatures = torch.ones(n_samples).to(device=x.device, dtype=x.dtype) * self.temperature\n",
    "        weights = self.allocate_layer(x, temperatures)\n",
    "\n",
    "        return weights"
   ]
  },
  {
   "cell_type": "code",
   "execution_count": 31,
   "metadata": {},
   "outputs": [],
   "source": [
    "from deepdow.nn import BachelierNet\n",
    "\n",
    "n_input_channels = len(channels)\n",
    "max_weight = 1\n",
    "hidden_size = 32\n",
    "network = None\n"
   ]
  },
  {
   "cell_type": "code",
   "execution_count": 32,
   "metadata": {},
   "outputs": [],
   "source": [
    "if True:\n",
    "    #network = GreatNet(n_assets, lookback, channels=n_channels, hidden_size=hidden_size,p=0.4)\n",
    "    network = DeepNet(n_assets, lookback, channels=n_channels, hidden_size=hidden_size,p=0.4)\n",
    "else:\n",
    "    network = BachelierNet(n_input_channels, n_assets, hidden_size=hidden_size, max_weight=max_weight)\n"
   ]
  },
  {
   "cell_type": "code",
   "execution_count": 33,
   "metadata": {},
   "outputs": [
    {
     "data": {
      "text/plain": [
       "DeepNet(\n",
       "  (CollapseChannel): Conv(\n",
       "    (conv): Conv2d(2, 1, kernel_size=(3, 3), stride=(1, 1), padding=(1, 1))\n",
       "  )\n",
       "  (embedding_layer_2): Linear(in_features=60, out_features=960, bias=True)\n",
       "  (embedding_layer_1): Linear(in_features=60, out_features=960, bias=True)\n",
       "  (encoder_layer): TransformerEncoderLayer(\n",
       "    (self_attn): MultiheadAttention(\n",
       "      (out_proj): NonDynamicallyQuantizableLinear(in_features=960, out_features=960, bias=True)\n",
       "    )\n",
       "    (linear1): Linear(in_features=960, out_features=2048, bias=True)\n",
       "    (dropout): Dropout(p=0.2, inplace=False)\n",
       "    (linear2): Linear(in_features=2048, out_features=960, bias=True)\n",
       "    (norm1): LayerNorm((960,), eps=1e-05, elementwise_affine=True)\n",
       "    (norm2): LayerNorm((960,), eps=1e-05, elementwise_affine=True)\n",
       "    (dropout1): Dropout(p=0.2, inplace=False)\n",
       "    (dropout2): Dropout(p=0.2, inplace=False)\n",
       "  )\n",
       "  (decoder_layer): TransformerDecoderLayer(\n",
       "    (self_attn): MultiheadAttention(\n",
       "      (out_proj): NonDynamicallyQuantizableLinear(in_features=960, out_features=960, bias=True)\n",
       "    )\n",
       "    (multihead_attn): MultiheadAttention(\n",
       "      (out_proj): NonDynamicallyQuantizableLinear(in_features=960, out_features=960, bias=True)\n",
       "    )\n",
       "    (linear1): Linear(in_features=960, out_features=2048, bias=True)\n",
       "    (dropout): Dropout(p=0.2, inplace=False)\n",
       "    (linear2): Linear(in_features=2048, out_features=960, bias=True)\n",
       "    (norm1): LayerNorm((960,), eps=1e-05, elementwise_affine=True)\n",
       "    (norm2): LayerNorm((960,), eps=1e-05, elementwise_affine=True)\n",
       "    (norm3): LayerNorm((960,), eps=1e-05, elementwise_affine=True)\n",
       "    (dropout1): Dropout(p=0.2, inplace=False)\n",
       "    (dropout2): Dropout(p=0.2, inplace=False)\n",
       "    (dropout3): Dropout(p=0.2, inplace=False)\n",
       "  )\n",
       "  (decoder): TransformerDecoder(\n",
       "    (layers): ModuleList(\n",
       "      (0-3): 4 x TransformerDecoderLayer(\n",
       "        (self_attn): MultiheadAttention(\n",
       "          (out_proj): NonDynamicallyQuantizableLinear(in_features=960, out_features=960, bias=True)\n",
       "        )\n",
       "        (multihead_attn): MultiheadAttention(\n",
       "          (out_proj): NonDynamicallyQuantizableLinear(in_features=960, out_features=960, bias=True)\n",
       "        )\n",
       "        (linear1): Linear(in_features=960, out_features=2048, bias=True)\n",
       "        (dropout): Dropout(p=0.2, inplace=False)\n",
       "        (linear2): Linear(in_features=2048, out_features=960, bias=True)\n",
       "        (norm1): LayerNorm((960,), eps=1e-05, elementwise_affine=True)\n",
       "        (norm2): LayerNorm((960,), eps=1e-05, elementwise_affine=True)\n",
       "        (norm3): LayerNorm((960,), eps=1e-05, elementwise_affine=True)\n",
       "        (dropout1): Dropout(p=0.2, inplace=False)\n",
       "        (dropout2): Dropout(p=0.2, inplace=False)\n",
       "        (dropout3): Dropout(p=0.2, inplace=False)\n",
       "      )\n",
       "    )\n",
       "  )\n",
       "  (encoder): TransformerEncoder(\n",
       "    (layers): ModuleList(\n",
       "      (0-3): 4 x TransformerEncoderLayer(\n",
       "        (self_attn): MultiheadAttention(\n",
       "          (out_proj): NonDynamicallyQuantizableLinear(in_features=960, out_features=960, bias=True)\n",
       "        )\n",
       "        (linear1): Linear(in_features=960, out_features=2048, bias=True)\n",
       "        (dropout): Dropout(p=0.2, inplace=False)\n",
       "        (linear2): Linear(in_features=2048, out_features=960, bias=True)\n",
       "        (norm1): LayerNorm((960,), eps=1e-05, elementwise_affine=True)\n",
       "        (norm2): LayerNorm((960,), eps=1e-05, elementwise_affine=True)\n",
       "        (dropout1): Dropout(p=0.2, inplace=False)\n",
       "        (dropout2): Dropout(p=0.2, inplace=False)\n",
       "      )\n",
       "    )\n",
       "  )\n",
       "  (CollapseSFM): Sequential(\n",
       "    (0): Linear(in_features=2560, out_features=1, bias=True)\n",
       "    (1): ReLU()\n",
       "  )\n",
       "  (layer_L3): AverageCollapse()\n",
       "  (layer_L4): CovarianceMatrix()\n",
       "  (layer_L5): NumericalMarkowitz(\n",
       "    (cvxpylayer): CvxpyLayer()\n",
       "  )\n",
       "  (dropout_layer): Dropout(p=0.4, inplace=False)\n",
       "  (network): Sequential(\n",
       "    (0): Linear(in_features=25600, out_features=32, bias=True)\n",
       "    (1): ReLU()\n",
       "  )\n",
       "  (dense_layer): Linear(in_features=20480, out_features=1, bias=True)\n",
       "  (dense_layer_2): Linear(in_features=224, out_features=1, bias=True)\n",
       "  (allocate_layer): SoftmaxAllocator(\n",
       "    (layer): CvxpyLayer()\n",
       "  )\n",
       ")"
      ]
     },
     "execution_count": 33,
     "metadata": {},
     "output_type": "execute_result"
    }
   ],
   "source": [
    "network"
   ]
  },
  {
   "cell_type": "code",
   "execution_count": 34,
   "metadata": {},
   "outputs": [],
   "source": [
    "network_to_train = network.train() "
   ]
  },
  {
   "cell_type": "code",
   "execution_count": 35,
   "metadata": {},
   "outputs": [],
   "source": [
    "loss = MaximumDrawdown() + 2 * MeanReturns() + SharpeRatio(rf=0.000)\n",
    "#loss = MeanReturns()"
   ]
  },
  {
   "cell_type": "code",
   "execution_count": 36,
   "metadata": {},
   "outputs": [],
   "source": [
    "#获得时间 作为文件名\n",
    "import datetime\n",
    "now = datetime.datetime.now()\n",
    "date_time = now.strftime(\"%Y-%m-%d %H-%M-%S\")\n",
    "run = Run(network_to_train,\n",
    "          loss,\n",
    "          dataloader_train,\n",
    "          benchmarks={'OneOverN': OneOverN(),\n",
    "                      'MaximumReturn': MaximumReturn(),\n",
    "                     },\n",
    "          val_dataloaders={'test': dataloader_test},\n",
    "          optimizer=torch.optim.Adam(network.parameters(), amsgrad=True, lr=0.001),\n",
    "          callbacks=[EarlyStoppingCallback(metric_name='loss',\n",
    "                                           dataloader_name='test',\n",
    "                                           patience=15),\n",
    "                     ModelCheckpointCallback(folder_path=f'./models/{date_time}/',\n",
    "                                             dataloader_name='test',\n",
    "                                             metric_name='loss'),\n",
    "                     DeepCallback()],\n",
    "          device=device\n",
    "          )\n",
    "\n",
    "#"
   ]
  },
  {
   "cell_type": "code",
   "execution_count": null,
   "metadata": {},
   "outputs": [
    {
     "name": "stdout",
     "output_type": "stream",
     "text": [
      "model          metric  epoch  dataloader\n",
      "MaximumReturn  loss    -1     test         -0.046\n",
      "OneOverN       loss    -1     test         -0.098\n"
     ]
    },
    {
     "name": "stderr",
     "output_type": "stream",
     "text": [
      "Epoch 0:   0%|          | 0/126 [00:00<?, ?it/s]"
     ]
    },
    {
     "name": "stderr",
     "output_type": "stream",
     "text": [
      "Epoch 0:  33%|███▎      | 41/126 [1:21:11<05:45,  4.06s/it, loss=-0.13090]     "
     ]
    }
   ],
   "source": [
    "history = run.launch(3)"
   ]
  },
  {
   "cell_type": "code",
   "execution_count": null,
   "metadata": {},
   "outputs": [
    {
     "name": "stdout",
     "output_type": "stream",
     "text": [
      "dataloader  metric  model          epoch\n",
      "test        loss    MaximumReturn  -1       97\n",
      "                    OneOverN       -1       97\n",
      "                    network         0       97\n",
      "                                    1       97\n",
      "                                    2       97\n",
      "Name: value, dtype: int64\n",
      "dataloader  metric  model          epoch\n",
      "test        loss    MaximumReturn  -1      -0.046\n",
      "                    OneOverN       -1      -0.098\n",
      "                    network         0      -0.073\n",
      "                                    1      -0.077\n",
      "                                    2      -0.084\n",
      "Name: value, dtype: float32\n"
     ]
    }
   ],
   "source": [
    "per_epoch_results = history.metrics.groupby(['dataloader', 'metric', 'model', 'epoch'])['value']\n",
    "\n",
    "print(per_epoch_results.count())  # double check number of samples each epoch\n",
    "print(per_epoch_results.mean())  # mean loss per epoch"
   ]
  },
  {
   "cell_type": "code",
   "execution_count": null,
   "metadata": {},
   "outputs": [
    {
     "data": {
      "text/plain": [
       "<Axes: xlabel='epoch'>"
      ]
     },
     "execution_count": 30,
     "metadata": {},
     "output_type": "execute_result"
    },
    {
     "data": {
      "image/png": "[encoded data removed]",
      "text/plain": [
       "<Figure size 640x480 with 1 Axes>"
      ]
     },
     "metadata": {},
     "output_type": "display_data"
    }
   ],
   "source": [
    "per_epoch_results.mean()['test']['loss']['network'].plot()"
   ]
  },
  {
   "cell_type": "code",
   "execution_count": null,
   "metadata": {},
   "outputs": [],
   "source": [
    "loaded_network = torch.load('models/2025-04-08 12-39-09/model_00__-0.1890.pth', weights_only=False)"
   ]
  },
  {
   "cell_type": "code",
   "execution_count": null,
   "metadata": {},
   "outputs": [],
   "source": [
    "network = network.eval()"
   ]
  },
  {
   "cell_type": "code",
   "execution_count": null,
   "metadata": {},
   "outputs": [],
   "source": [
    "benchmarks = {\n",
    "    '1overN': OneOverN(),  # each asset has weight 1 / n_assets\n",
    "    #'MaximumReturn': MaximumReturn(),  # random allocation that is however close 1OverN\n",
    "    'network': network\n",
    "}"
   ]
  },
  {
   "cell_type": "code",
   "execution_count": null,
   "metadata": {},
   "outputs": [],
   "source": [
    "metrics = {\n",
    "    'MaxDD': MaximumDrawdown(),\n",
    "    'Sharpe': SharpeRatio(),\n",
    "    'MeanReturn': MeanReturns()\n",
    "}"
   ]
  },
  {
   "cell_type": "code",
   "execution_count": null,
   "metadata": {},
   "outputs": [
    {
     "ename": "RuntimeError",
     "evalue": "mat1 and mat2 shapes cannot be multiplied (224x60 and 150x960)",
     "output_type": "error",
     "traceback": [
      "\u001b[31m---------------------------------------------------------------------------\u001b[39m",
      "\u001b[31mRuntimeError\u001b[39m                              Traceback (most recent call last)",
      "\u001b[36mCell\u001b[39m\u001b[36m \u001b[39m\u001b[32mIn[45]\u001b[39m\u001b[32m, line 1\u001b[39m\n\u001b[32m----> \u001b[39m\u001b[32m1\u001b[39m metrics_table = \u001b[43mgenerate_metrics_table\u001b[49m\u001b[43m(\u001b[49m\u001b[43mbenchmarks\u001b[49m\u001b[43m,\u001b[49m\n\u001b[32m      2\u001b[39m \u001b[43m                                       \u001b[49m\u001b[43mdataloader_test\u001b[49m\u001b[43m,\u001b[49m\n\u001b[32m      3\u001b[39m \u001b[43m                                       \u001b[49m\u001b[43mmetrics\u001b[49m\u001b[43m,\u001b[49m\n\u001b[32m      4\u001b[39m \u001b[43m                                       \u001b[49m\u001b[43mdevice\u001b[49m\u001b[43m=\u001b[49m\u001b[33;43m'\u001b[39;49m\u001b[33;43mcuda\u001b[39;49m\u001b[33;43m'\u001b[39;49m\u001b[43m)\u001b[49m\n",
      "\u001b[36mFile \u001b[39m\u001b[32m~/miniconda3/envs/ts/lib/python3.11/site-packages/deepdow/visualize.py:75\u001b[39m, in \u001b[36mgenerate_metrics_table\u001b[39m\u001b[34m(benchmarks, dataloader, metrics, device, dtype)\u001b[39m\n\u001b[32m     71\u001b[39m X_batch, y_batch = X_batch.to(device).to(dtype), y_batch.to(device).to(\n\u001b[32m     72\u001b[39m     dtype\n\u001b[32m     73\u001b[39m )\n\u001b[32m     74\u001b[39m \u001b[38;5;28;01mfor\u001b[39;00m bm_name, bm \u001b[38;5;129;01min\u001b[39;00m benchmarks.items():\n\u001b[32m---> \u001b[39m\u001b[32m75\u001b[39m     weights = \u001b[43mbm\u001b[49m\u001b[43m(\u001b[49m\u001b[43mX_batch\u001b[49m\u001b[43m)\u001b[49m\n\u001b[32m     76\u001b[39m     \u001b[38;5;28;01mfor\u001b[39;00m metric_name, metric \u001b[38;5;129;01min\u001b[39;00m metrics.items():\n\u001b[32m     77\u001b[39m         metric_per_s = metric(weights, y_batch).detach().cpu().numpy()\n",
      "\u001b[36mFile \u001b[39m\u001b[32m~/miniconda3/envs/ts/lib/python3.11/site-packages/torch/nn/modules/module.py:1739\u001b[39m, in \u001b[36mModule._wrapped_call_impl\u001b[39m\u001b[34m(self, *args, **kwargs)\u001b[39m\n\u001b[32m   1737\u001b[39m     \u001b[38;5;28;01mreturn\u001b[39;00m \u001b[38;5;28mself\u001b[39m._compiled_call_impl(*args, **kwargs)  \u001b[38;5;66;03m# type: ignore[misc]\u001b[39;00m\n\u001b[32m   1738\u001b[39m \u001b[38;5;28;01melse\u001b[39;00m:\n\u001b[32m-> \u001b[39m\u001b[32m1739\u001b[39m     \u001b[38;5;28;01mreturn\u001b[39;00m \u001b[38;5;28;43mself\u001b[39;49m\u001b[43m.\u001b[49m\u001b[43m_call_impl\u001b[49m\u001b[43m(\u001b[49m\u001b[43m*\u001b[49m\u001b[43margs\u001b[49m\u001b[43m,\u001b[49m\u001b[43m \u001b[49m\u001b[43m*\u001b[49m\u001b[43m*\u001b[49m\u001b[43mkwargs\u001b[49m\u001b[43m)\u001b[49m\n",
      "\u001b[36mFile \u001b[39m\u001b[32m~/miniconda3/envs/ts/lib/python3.11/site-packages/torch/nn/modules/module.py:1750\u001b[39m, in \u001b[36mModule._call_impl\u001b[39m\u001b[34m(self, *args, **kwargs)\u001b[39m\n\u001b[32m   1745\u001b[39m \u001b[38;5;66;03m# If we don't have any hooks, we want to skip the rest of the logic in\u001b[39;00m\n\u001b[32m   1746\u001b[39m \u001b[38;5;66;03m# this function, and just call forward.\u001b[39;00m\n\u001b[32m   1747\u001b[39m \u001b[38;5;28;01mif\u001b[39;00m \u001b[38;5;129;01mnot\u001b[39;00m (\u001b[38;5;28mself\u001b[39m._backward_hooks \u001b[38;5;129;01mor\u001b[39;00m \u001b[38;5;28mself\u001b[39m._backward_pre_hooks \u001b[38;5;129;01mor\u001b[39;00m \u001b[38;5;28mself\u001b[39m._forward_hooks \u001b[38;5;129;01mor\u001b[39;00m \u001b[38;5;28mself\u001b[39m._forward_pre_hooks\n\u001b[32m   1748\u001b[39m         \u001b[38;5;129;01mor\u001b[39;00m _global_backward_pre_hooks \u001b[38;5;129;01mor\u001b[39;00m _global_backward_hooks\n\u001b[32m   1749\u001b[39m         \u001b[38;5;129;01mor\u001b[39;00m _global_forward_hooks \u001b[38;5;129;01mor\u001b[39;00m _global_forward_pre_hooks):\n\u001b[32m-> \u001b[39m\u001b[32m1750\u001b[39m     \u001b[38;5;28;01mreturn\u001b[39;00m \u001b[43mforward_call\u001b[49m\u001b[43m(\u001b[49m\u001b[43m*\u001b[49m\u001b[43margs\u001b[49m\u001b[43m,\u001b[49m\u001b[43m \u001b[49m\u001b[43m*\u001b[49m\u001b[43m*\u001b[49m\u001b[43mkwargs\u001b[49m\u001b[43m)\u001b[49m\n\u001b[32m   1752\u001b[39m result = \u001b[38;5;28;01mNone\u001b[39;00m\n\u001b[32m   1753\u001b[39m called_always_called_hooks = \u001b[38;5;28mset\u001b[39m()\n",
      "\u001b[36mCell\u001b[39m\u001b[36m \u001b[39m\u001b[32mIn[18]\u001b[39m\u001b[32m, line 104\u001b[39m, in \u001b[36mDeepNet.forward\u001b[39m\u001b[34m(self, x)\u001b[39m\n\u001b[32m    102\u001b[39m m = m[:,:,\u001b[32m0\u001b[39m:horizon_len]\n\u001b[32m    103\u001b[39m m = m.permute(\u001b[32m0\u001b[39m,\u001b[32m2\u001b[39m,\u001b[32m1\u001b[39m) \u001b[38;5;66;03m# B, horizon_len, channels*n_assets\u001b[39;00m\n\u001b[32m--> \u001b[39m\u001b[32m104\u001b[39m m = \u001b[38;5;28;43mself\u001b[39;49m\u001b[43m.\u001b[49m\u001b[43membedding_layer_1\u001b[49m\u001b[43m(\u001b[49m\u001b[43mm\u001b[49m\u001b[43m)\u001b[49m \u001b[38;5;66;03m# B, horizon_len, n_assets*32\u001b[39;00m\n\u001b[32m    106\u001b[39m x = x.permute(\u001b[32m0\u001b[39m, \u001b[32m2\u001b[39m, \u001b[32m1\u001b[39m) \u001b[38;5;66;03m# B, lookback, n_assets*channels\u001b[39;00m\n\u001b[32m    107\u001b[39m x = \u001b[38;5;28mself\u001b[39m.embedding_layer_2(x) \u001b[38;5;66;03m# B, lookback, n_assets*32\u001b[39;00m\n",
      "\u001b[36mFile \u001b[39m\u001b[32m~/miniconda3/envs/ts/lib/python3.11/site-packages/torch/nn/modules/module.py:1739\u001b[39m, in \u001b[36mModule._wrapped_call_impl\u001b[39m\u001b[34m(self, *args, **kwargs)\u001b[39m\n\u001b[32m   1737\u001b[39m     \u001b[38;5;28;01mreturn\u001b[39;00m \u001b[38;5;28mself\u001b[39m._compiled_call_impl(*args, **kwargs)  \u001b[38;5;66;03m# type: ignore[misc]\u001b[39;00m\n\u001b[32m   1738\u001b[39m \u001b[38;5;28;01melse\u001b[39;00m:\n\u001b[32m-> \u001b[39m\u001b[32m1739\u001b[39m     \u001b[38;5;28;01mreturn\u001b[39;00m \u001b[38;5;28;43mself\u001b[39;49m\u001b[43m.\u001b[49m\u001b[43m_call_impl\u001b[49m\u001b[43m(\u001b[49m\u001b[43m*\u001b[49m\u001b[43margs\u001b[49m\u001b[43m,\u001b[49m\u001b[43m \u001b[49m\u001b[43m*\u001b[49m\u001b[43m*\u001b[49m\u001b[43mkwargs\u001b[49m\u001b[43m)\u001b[49m\n",
      "\u001b[36mFile \u001b[39m\u001b[32m~/miniconda3/envs/ts/lib/python3.11/site-packages/torch/nn/modules/module.py:1750\u001b[39m, in \u001b[36mModule._call_impl\u001b[39m\u001b[34m(self, *args, **kwargs)\u001b[39m\n\u001b[32m   1745\u001b[39m \u001b[38;5;66;03m# If we don't have any hooks, we want to skip the rest of the logic in\u001b[39;00m\n\u001b[32m   1746\u001b[39m \u001b[38;5;66;03m# this function, and just call forward.\u001b[39;00m\n\u001b[32m   1747\u001b[39m \u001b[38;5;28;01mif\u001b[39;00m \u001b[38;5;129;01mnot\u001b[39;00m (\u001b[38;5;28mself\u001b[39m._backward_hooks \u001b[38;5;129;01mor\u001b[39;00m \u001b[38;5;28mself\u001b[39m._backward_pre_hooks \u001b[38;5;129;01mor\u001b[39;00m \u001b[38;5;28mself\u001b[39m._forward_hooks \u001b[38;5;129;01mor\u001b[39;00m \u001b[38;5;28mself\u001b[39m._forward_pre_hooks\n\u001b[32m   1748\u001b[39m         \u001b[38;5;129;01mor\u001b[39;00m _global_backward_pre_hooks \u001b[38;5;129;01mor\u001b[39;00m _global_backward_hooks\n\u001b[32m   1749\u001b[39m         \u001b[38;5;129;01mor\u001b[39;00m _global_forward_hooks \u001b[38;5;129;01mor\u001b[39;00m _global_forward_pre_hooks):\n\u001b[32m-> \u001b[39m\u001b[32m1750\u001b[39m     \u001b[38;5;28;01mreturn\u001b[39;00m \u001b[43mforward_call\u001b[49m\u001b[43m(\u001b[49m\u001b[43m*\u001b[49m\u001b[43margs\u001b[49m\u001b[43m,\u001b[49m\u001b[43m \u001b[49m\u001b[43m*\u001b[49m\u001b[43m*\u001b[49m\u001b[43mkwargs\u001b[49m\u001b[43m)\u001b[49m\n\u001b[32m   1752\u001b[39m result = \u001b[38;5;28;01mNone\u001b[39;00m\n\u001b[32m   1753\u001b[39m called_always_called_hooks = \u001b[38;5;28mset\u001b[39m()\n",
      "\u001b[36mFile \u001b[39m\u001b[32m~/miniconda3/envs/ts/lib/python3.11/site-packages/torch/nn/modules/linear.py:125\u001b[39m, in \u001b[36mLinear.forward\u001b[39m\u001b[34m(self, input)\u001b[39m\n\u001b[32m    124\u001b[39m \u001b[38;5;28;01mdef\u001b[39;00m\u001b[38;5;250m \u001b[39m\u001b[34mforward\u001b[39m(\u001b[38;5;28mself\u001b[39m, \u001b[38;5;28minput\u001b[39m: Tensor) -> Tensor:\n\u001b[32m--> \u001b[39m\u001b[32m125\u001b[39m     \u001b[38;5;28;01mreturn\u001b[39;00m \u001b[43mF\u001b[49m\u001b[43m.\u001b[49m\u001b[43mlinear\u001b[49m\u001b[43m(\u001b[49m\u001b[38;5;28;43minput\u001b[39;49m\u001b[43m,\u001b[49m\u001b[43m \u001b[49m\u001b[38;5;28;43mself\u001b[39;49m\u001b[43m.\u001b[49m\u001b[43mweight\u001b[49m\u001b[43m,\u001b[49m\u001b[43m \u001b[49m\u001b[38;5;28;43mself\u001b[39;49m\u001b[43m.\u001b[49m\u001b[43mbias\u001b[49m\u001b[43m)\u001b[49m\n",
      "\u001b[31mRuntimeError\u001b[39m: mat1 and mat2 shapes cannot be multiplied (224x60 and 150x960)"
     ]
    }
   ],
   "source": [
    "metrics_table = generate_metrics_table(benchmarks,\n",
    "                                       dataloader_test,\n",
    "                                       metrics,\n",
    "                                       device='cuda')"
   ]
  },
  {
   "cell_type": "code",
   "execution_count": null,
   "metadata": {},
   "outputs": [
    {
     "data": {
      "text/plain": [
       "array([<Axes: title={'center': 'MaxDD'}, xlabel='timestamp'>,\n",
       "       <Axes: title={'center': 'Sharpe'}, xlabel='timestamp'>,\n",
       "       <Axes: title={'center': 'MeanReturn'}, xlabel='timestamp'>],\n",
       "      dtype=object)"
      ]
     },
     "execution_count": 39,
     "metadata": {},
     "output_type": "execute_result"
    },
    {
     "data": {
      "image/png": "[encoded data removed]",
      "text/plain": [
       "<Figure size 640x480 with 3 Axes>"
      ]
     },
     "metadata": {},
     "output_type": "display_data"
    }
   ],
   "source": [
    "plot_metrics(metrics_table)"
   ]
  },
  {
   "cell_type": "code",
   "execution_count": null,
   "metadata": {},
   "outputs": [],
   "source": [
    "weight_table = generate_weights_table(network, dataloader_test,device = device)"
   ]
  },
  {
   "cell_type": "code",
   "execution_count": null,
   "metadata": {},
   "outputs": [
    {
     "data": {
      "text/plain": [
       "<Axes: >"
      ]
     },
     "execution_count": 33,
     "metadata": {},
     "output_type": "execute_result"
    },
    {
     "data": {
      "image/png": "[encoded data removed]",
      "text/plain": [
       "<Figure size 640x480 with 2 Axes>"
      ]
     },
     "metadata": {},
     "output_type": "display_data"
    }
   ],
   "source": [
    "plot_weight_heatmap(weight_table,\n",
    "                    add_sum_column=True,\n",
    "                    time_format=None,\n",
    "                    time_skips=25)"
   ]
  }
 ],
 "metadata": {
  "kernelspec": {
   "display_name": "ts",
   "language": "python",
   "name": "python3"
  },
  "language_info": {
   "codemirror_mode": {
    "name": "ipython",
    "version": 3
   },
   "file_extension": ".py",
   "mimetype": "text/x-python",
   "name": "python",
   "nbconvert_exporter": "python",
   "pygments_lexer": "ipython3",
   "version": "3.11.11"
  }
 },
 "nbformat": 4,
 "nbformat_minor": 2
}
