{
 "cells": [
  {
   "cell_type": "code",
   "execution_count": 1,
   "metadata": {},
   "outputs": [
    {
     "name": "stdout",
     "output_type": "stream",
     "text": [
      " See https://github.com/google-research/timesfm/blob/master/README.md for updated APIs.\n",
      "Loaded PyTorch TimesFM, likely because python version is 3.11.11 | packaged by conda-forge | (main, Mar  3 2025, 20:43:55) [GCC 13.3.0].\n"
     ]
    }
   ],
   "source": [
    "from deepdow.benchmarks import Benchmark, OneOverN, Random\n",
    "from deepdow.callbacks import EarlyStoppingCallback, ModelCheckpointCallback\n",
    "from deepdow.data import InRAMDataset, RigidDataLoader, prepare_standard_scaler, Scale\n",
    "from deepdow.data.synthetic import sin_single\n",
    "from deepdow.experiments import Run\n",
    "from deepdow.layers import SoftmaxAllocator\n",
    "from deepdow.losses import MeanReturns, SharpeRatio, MaximumDrawdown\n",
    "from deepdow.visualize import generate_metrics_table, generate_weights_table, plot_metrics, plot_weight_heatmap\n",
    "from deepdow.layers import NumericalMarkowitz\n",
    "import matplotlib.pyplot as plt\n",
    "import numpy as np\n",
    "import torch\n",
    "import torch.nn as nn\n",
    "from os import path\n",
    "from typing import Optional, Tuple\n",
    "\n",
    "import numpy as np\n",
    "import pandas as pd\n",
    "import torch\n",
    "import torch.multiprocessing as mp\n",
    "import yfinance as yf\n",
    "from finetuning.finetuning_torch import FinetuningConfig, TimesFMFinetuner\n",
    "from huggingface_hub import snapshot_download\n",
    "from torch.utils.data import Dataset\n",
    "\n",
    "from timesfm import TimesFm, TimesFmCheckpoint, TimesFmHparams\n",
    "from timesfm.pytorch_patched_decoder import PatchedTimeSeriesDecoder\n",
    "import os\n",
    "from deepdow.layers import Conv\n",
    "from deepdow.layers.collapse import AttentionCollapse, AverageCollapse\n",
    "from deepdow.layers.misc import CovarianceMatrix"
   ]
  },
  {
   "cell_type": "code",
   "execution_count": null,
   "metadata": {},
   "outputs": [
    {
     "ename": "",
     "evalue": "",
     "output_type": "error",
     "traceback": [
      "\u001b[1;31mnotebook controller is DISPOSED. \n",
      "\u001b[1;31mView Jupyter <a href='command:jupyter.viewOutput'>log</a> for further details."
     ]
    }
   ],
   "source": [
    "import pandas as pd\n",
    "df = pd.read_parquet('df.parquet')[-2000:]"
   ]
  },
  {
   "cell_type": "code",
   "execution_count": null,
   "metadata": {},
   "outputs": [
    {
     "data": {
      "text/html": [
       "<div>\n",
       "<style scoped>\n",
       "    .dataframe tbody tr th:only-of-type {\n",
       "        vertical-align: middle;\n",
       "    }\n",
       "\n",
       "    .dataframe tbody tr th {\n",
       "        vertical-align: top;\n",
       "    }\n",
       "\n",
       "    .dataframe thead tr th {\n",
       "        text-align: left;\n",
       "    }\n",
       "\n",
       "    .dataframe thead tr:last-of-type th {\n",
       "        text-align: right;\n",
       "    }\n",
       "</style>\n",
       "<table border=\"1\" class=\"dataframe\">\n",
       "  <thead>\n",
       "    <tr>\n",
       "      <th>Ticker</th>\n",
       "      <th colspan=\"5\" halign=\"left\">AAPL</th>\n",
       "      <th colspan=\"5\" halign=\"left\">AMGN</th>\n",
       "      <th>...</th>\n",
       "      <th colspan=\"5\" halign=\"left\">WBA</th>\n",
       "      <th colspan=\"5\" halign=\"left\">WMT</th>\n",
       "    </tr>\n",
       "    <tr>\n",
       "      <th>Price</th>\n",
       "      <th>Close</th>\n",
       "      <th>High</th>\n",
       "      <th>Low</th>\n",
       "      <th>Open</th>\n",
       "      <th>Volume</th>\n",
       "      <th>Close</th>\n",
       "      <th>High</th>\n",
       "      <th>Low</th>\n",
       "      <th>Open</th>\n",
       "      <th>Volume</th>\n",
       "      <th>...</th>\n",
       "      <th>Close</th>\n",
       "      <th>High</th>\n",
       "      <th>Low</th>\n",
       "      <th>Open</th>\n",
       "      <th>Volume</th>\n",
       "      <th>Close</th>\n",
       "      <th>High</th>\n",
       "      <th>Low</th>\n",
       "      <th>Open</th>\n",
       "      <th>Volume</th>\n",
       "    </tr>\n",
       "    <tr>\n",
       "      <th>Date</th>\n",
       "      <th></th>\n",
       "      <th></th>\n",
       "      <th></th>\n",
       "      <th></th>\n",
       "      <th></th>\n",
       "      <th></th>\n",
       "      <th></th>\n",
       "      <th></th>\n",
       "      <th></th>\n",
       "      <th></th>\n",
       "      <th></th>\n",
       "      <th></th>\n",
       "      <th></th>\n",
       "      <th></th>\n",
       "      <th></th>\n",
       "      <th></th>\n",
       "      <th></th>\n",
       "      <th></th>\n",
       "      <th></th>\n",
       "      <th></th>\n",
       "      <th></th>\n",
       "    </tr>\n",
       "  </thead>\n",
       "  <tbody>\n",
       "    <tr>\n",
       "      <th>2017-04-12</th>\n",
       "      <td>32.936779</td>\n",
       "      <td>33.018074</td>\n",
       "      <td>32.753279</td>\n",
       "      <td>32.890324</td>\n",
       "      <td>81400000</td>\n",
       "      <td>128.211761</td>\n",
       "      <td>129.037415</td>\n",
       "      <td>127.511925</td>\n",
       "      <td>129.021685</td>\n",
       "      <td>2248600</td>\n",
       "      <td>...</td>\n",
       "      <td>58.541965</td>\n",
       "      <td>58.726306</td>\n",
       "      <td>58.357624</td>\n",
       "      <td>58.449798</td>\n",
       "      <td>2984300</td>\n",
       "      <td>21.294033</td>\n",
       "      <td>21.407115</td>\n",
       "      <td>21.238944</td>\n",
       "      <td>21.325928</td>\n",
       "      <td>19881900</td>\n",
       "    </tr>\n",
       "    <tr>\n",
       "      <th>2017-04-13</th>\n",
       "      <td>32.762577</td>\n",
       "      <td>33.071505</td>\n",
       "      <td>32.762577</td>\n",
       "      <td>32.962335</td>\n",
       "      <td>71291600</td>\n",
       "      <td>127.079445</td>\n",
       "      <td>128.667843</td>\n",
       "      <td>126.859272</td>\n",
       "      <td>128.392621</td>\n",
       "      <td>2568800</td>\n",
       "      <td>...</td>\n",
       "      <td>58.478146</td>\n",
       "      <td>58.974442</td>\n",
       "      <td>58.385972</td>\n",
       "      <td>58.719202</td>\n",
       "      <td>2780800</td>\n",
       "      <td>21.209949</td>\n",
       "      <td>21.357825</td>\n",
       "      <td>21.209949</td>\n",
       "      <td>21.273739</td>\n",
       "      <td>16009200</td>\n",
       "    </tr>\n",
       "    <tr>\n",
       "      <th>2017-04-17</th>\n",
       "      <td>32.943745</td>\n",
       "      <td>32.955359</td>\n",
       "      <td>32.720758</td>\n",
       "      <td>32.862447</td>\n",
       "      <td>66328400</td>\n",
       "      <td>127.472588</td>\n",
       "      <td>127.794987</td>\n",
       "      <td>126.804199</td>\n",
       "      <td>126.867107</td>\n",
       "      <td>2364900</td>\n",
       "      <td>...</td>\n",
       "      <td>58.939011</td>\n",
       "      <td>58.960285</td>\n",
       "      <td>58.506521</td>\n",
       "      <td>58.584512</td>\n",
       "      <td>1931600</td>\n",
       "      <td>21.308529</td>\n",
       "      <td>21.334623</td>\n",
       "      <td>21.209944</td>\n",
       "      <td>21.212844</td>\n",
       "      <td>16396200</td>\n",
       "    </tr>\n",
       "    <tr>\n",
       "      <th>2017-04-18</th>\n",
       "      <td>32.797409</td>\n",
       "      <td>32.992520</td>\n",
       "      <td>32.776505</td>\n",
       "      <td>32.846189</td>\n",
       "      <td>58790000</td>\n",
       "      <td>126.796326</td>\n",
       "      <td>127.331027</td>\n",
       "      <td>126.033581</td>\n",
       "      <td>127.331027</td>\n",
       "      <td>2532100</td>\n",
       "      <td>...</td>\n",
       "      <td>58.719227</td>\n",
       "      <td>58.882299</td>\n",
       "      <td>58.506525</td>\n",
       "      <td>58.563246</td>\n",
       "      <td>2894300</td>\n",
       "      <td>21.424511</td>\n",
       "      <td>21.485402</td>\n",
       "      <td>21.305632</td>\n",
       "      <td>21.323028</td>\n",
       "      <td>19883700</td>\n",
       "    </tr>\n",
       "    <tr>\n",
       "      <th>2017-04-19</th>\n",
       "      <td>32.676628</td>\n",
       "      <td>32.983235</td>\n",
       "      <td>32.623206</td>\n",
       "      <td>32.955363</td>\n",
       "      <td>69313600</td>\n",
       "      <td>126.804222</td>\n",
       "      <td>127.889367</td>\n",
       "      <td>126.702007</td>\n",
       "      <td>127.464752</td>\n",
       "      <td>2344100</td>\n",
       "      <td>...</td>\n",
       "      <td>59.208435</td>\n",
       "      <td>59.555843</td>\n",
       "      <td>58.818484</td>\n",
       "      <td>58.995733</td>\n",
       "      <td>5163500</td>\n",
       "      <td>21.476704</td>\n",
       "      <td>21.566588</td>\n",
       "      <td>21.415814</td>\n",
       "      <td>21.485402</td>\n",
       "      <td>17821800</td>\n",
       "    </tr>\n",
       "    <tr>\n",
       "      <th>...</th>\n",
       "      <td>...</td>\n",
       "      <td>...</td>\n",
       "      <td>...</td>\n",
       "      <td>...</td>\n",
       "      <td>...</td>\n",
       "      <td>...</td>\n",
       "      <td>...</td>\n",
       "      <td>...</td>\n",
       "      <td>...</td>\n",
       "      <td>...</td>\n",
       "      <td>...</td>\n",
       "      <td>...</td>\n",
       "      <td>...</td>\n",
       "      <td>...</td>\n",
       "      <td>...</td>\n",
       "      <td>...</td>\n",
       "      <td>...</td>\n",
       "      <td>...</td>\n",
       "      <td>...</td>\n",
       "      <td>...</td>\n",
       "      <td>...</td>\n",
       "    </tr>\n",
       "    <tr>\n",
       "      <th>2025-03-20</th>\n",
       "      <td>214.100006</td>\n",
       "      <td>217.490005</td>\n",
       "      <td>212.220001</td>\n",
       "      <td>213.990005</td>\n",
       "      <td>48862900</td>\n",
       "      <td>315.040009</td>\n",
       "      <td>315.989990</td>\n",
       "      <td>312.239990</td>\n",
       "      <td>314.179993</td>\n",
       "      <td>2049700</td>\n",
       "      <td>...</td>\n",
       "      <td>11.120000</td>\n",
       "      <td>11.200000</td>\n",
       "      <td>11.120000</td>\n",
       "      <td>11.160000</td>\n",
       "      <td>12048300</td>\n",
       "      <td>85.574997</td>\n",
       "      <td>86.841523</td>\n",
       "      <td>85.285790</td>\n",
       "      <td>85.574997</td>\n",
       "      <td>18185500</td>\n",
       "    </tr>\n",
       "    <tr>\n",
       "      <th>2025-03-21</th>\n",
       "      <td>218.270004</td>\n",
       "      <td>218.839996</td>\n",
       "      <td>211.279999</td>\n",
       "      <td>211.559998</td>\n",
       "      <td>94127800</td>\n",
       "      <td>316.040009</td>\n",
       "      <td>316.489990</td>\n",
       "      <td>311.160004</td>\n",
       "      <td>311.820007</td>\n",
       "      <td>9995000</td>\n",
       "      <td>...</td>\n",
       "      <td>11.100000</td>\n",
       "      <td>11.190000</td>\n",
       "      <td>11.080000</td>\n",
       "      <td>11.110000</td>\n",
       "      <td>37249800</td>\n",
       "      <td>85.980003</td>\n",
       "      <td>86.230003</td>\n",
       "      <td>84.779999</td>\n",
       "      <td>85.279999</td>\n",
       "      <td>26797200</td>\n",
       "    </tr>\n",
       "    <tr>\n",
       "      <th>2025-03-24</th>\n",
       "      <td>220.729996</td>\n",
       "      <td>221.479996</td>\n",
       "      <td>218.580002</td>\n",
       "      <td>221.000000</td>\n",
       "      <td>44299500</td>\n",
       "      <td>314.380005</td>\n",
       "      <td>317.579987</td>\n",
       "      <td>313.429993</td>\n",
       "      <td>315.000000</td>\n",
       "      <td>2439400</td>\n",
       "      <td>...</td>\n",
       "      <td>11.150000</td>\n",
       "      <td>11.150000</td>\n",
       "      <td>11.090000</td>\n",
       "      <td>11.120000</td>\n",
       "      <td>12137700</td>\n",
       "      <td>87.489998</td>\n",
       "      <td>87.650002</td>\n",
       "      <td>86.349998</td>\n",
       "      <td>86.470001</td>\n",
       "      <td>17900700</td>\n",
       "    </tr>\n",
       "    <tr>\n",
       "      <th>2025-03-25</th>\n",
       "      <td>223.750000</td>\n",
       "      <td>224.100006</td>\n",
       "      <td>220.080002</td>\n",
       "      <td>220.770004</td>\n",
       "      <td>34493600</td>\n",
       "      <td>306.859985</td>\n",
       "      <td>314.220001</td>\n",
       "      <td>303.510010</td>\n",
       "      <td>313.980011</td>\n",
       "      <td>2565300</td>\n",
       "      <td>...</td>\n",
       "      <td>11.120000</td>\n",
       "      <td>11.170000</td>\n",
       "      <td>11.120000</td>\n",
       "      <td>11.150000</td>\n",
       "      <td>7945800</td>\n",
       "      <td>84.760002</td>\n",
       "      <td>87.309998</td>\n",
       "      <td>84.620003</td>\n",
       "      <td>86.760002</td>\n",
       "      <td>27908600</td>\n",
       "    </tr>\n",
       "    <tr>\n",
       "      <th>2025-03-26</th>\n",
       "      <td>221.529999</td>\n",
       "      <td>225.020004</td>\n",
       "      <td>220.470001</td>\n",
       "      <td>223.509995</td>\n",
       "      <td>34466100</td>\n",
       "      <td>305.709991</td>\n",
       "      <td>309.089996</td>\n",
       "      <td>304.350006</td>\n",
       "      <td>306.440002</td>\n",
       "      <td>2375200</td>\n",
       "      <td>...</td>\n",
       "      <td>11.100000</td>\n",
       "      <td>11.150000</td>\n",
       "      <td>11.100000</td>\n",
       "      <td>11.120000</td>\n",
       "      <td>9880500</td>\n",
       "      <td>85.209999</td>\n",
       "      <td>85.559998</td>\n",
       "      <td>84.570000</td>\n",
       "      <td>85.190002</td>\n",
       "      <td>27228800</td>\n",
       "    </tr>\n",
       "  </tbody>\n",
       "</table>\n",
       "<p>2000 rows × 150 columns</p>\n",
       "</div>"
      ],
      "text/plain": [
       "Ticker            AAPL                                                \\\n",
       "Price            Close        High         Low        Open    Volume   \n",
       "Date                                                                   \n",
       "2017-04-12   32.936779   33.018074   32.753279   32.890324  81400000   \n",
       "2017-04-13   32.762577   33.071505   32.762577   32.962335  71291600   \n",
       "2017-04-17   32.943745   32.955359   32.720758   32.862447  66328400   \n",
       "2017-04-18   32.797409   32.992520   32.776505   32.846189  58790000   \n",
       "2017-04-19   32.676628   32.983235   32.623206   32.955363  69313600   \n",
       "...                ...         ...         ...         ...       ...   \n",
       "2025-03-20  214.100006  217.490005  212.220001  213.990005  48862900   \n",
       "2025-03-21  218.270004  218.839996  211.279999  211.559998  94127800   \n",
       "2025-03-24  220.729996  221.479996  218.580002  221.000000  44299500   \n",
       "2025-03-25  223.750000  224.100006  220.080002  220.770004  34493600   \n",
       "2025-03-26  221.529999  225.020004  220.470001  223.509995  34466100   \n",
       "\n",
       "Ticker            AMGN                                               ...  \\\n",
       "Price            Close        High         Low        Open   Volume  ...   \n",
       "Date                                                                 ...   \n",
       "2017-04-12  128.211761  129.037415  127.511925  129.021685  2248600  ...   \n",
       "2017-04-13  127.079445  128.667843  126.859272  128.392621  2568800  ...   \n",
       "2017-04-17  127.472588  127.794987  126.804199  126.867107  2364900  ...   \n",
       "2017-04-18  126.796326  127.331027  126.033581  127.331027  2532100  ...   \n",
       "2017-04-19  126.804222  127.889367  126.702007  127.464752  2344100  ...   \n",
       "...                ...         ...         ...         ...      ...  ...   \n",
       "2025-03-20  315.040009  315.989990  312.239990  314.179993  2049700  ...   \n",
       "2025-03-21  316.040009  316.489990  311.160004  311.820007  9995000  ...   \n",
       "2025-03-24  314.380005  317.579987  313.429993  315.000000  2439400  ...   \n",
       "2025-03-25  306.859985  314.220001  303.510010  313.980011  2565300  ...   \n",
       "2025-03-26  305.709991  309.089996  304.350006  306.440002  2375200  ...   \n",
       "\n",
       "Ticker            WBA                                                   WMT  \\\n",
       "Price           Close       High        Low       Open    Volume      Close   \n",
       "Date                                                                          \n",
       "2017-04-12  58.541965  58.726306  58.357624  58.449798   2984300  21.294033   \n",
       "2017-04-13  58.478146  58.974442  58.385972  58.719202   2780800  21.209949   \n",
       "2017-04-17  58.939011  58.960285  58.506521  58.584512   1931600  21.308529   \n",
       "2017-04-18  58.719227  58.882299  58.506525  58.563246   2894300  21.424511   \n",
       "2017-04-19  59.208435  59.555843  58.818484  58.995733   5163500  21.476704   \n",
       "...               ...        ...        ...        ...       ...        ...   \n",
       "2025-03-20  11.120000  11.200000  11.120000  11.160000  12048300  85.574997   \n",
       "2025-03-21  11.100000  11.190000  11.080000  11.110000  37249800  85.980003   \n",
       "2025-03-24  11.150000  11.150000  11.090000  11.120000  12137700  87.489998   \n",
       "2025-03-25  11.120000  11.170000  11.120000  11.150000   7945800  84.760002   \n",
       "2025-03-26  11.100000  11.150000  11.100000  11.120000   9880500  85.209999   \n",
       "\n",
       "Ticker                                                 \n",
       "Price            High        Low       Open    Volume  \n",
       "Date                                                   \n",
       "2017-04-12  21.407115  21.238944  21.325928  19881900  \n",
       "2017-04-13  21.357825  21.209949  21.273739  16009200  \n",
       "2017-04-17  21.334623  21.209944  21.212844  16396200  \n",
       "2017-04-18  21.485402  21.305632  21.323028  19883700  \n",
       "2017-04-19  21.566588  21.415814  21.485402  17821800  \n",
       "...               ...        ...        ...       ...  \n",
       "2025-03-20  86.841523  85.285790  85.574997  18185500  \n",
       "2025-03-21  86.230003  84.779999  85.279999  26797200  \n",
       "2025-03-24  87.650002  86.349998  86.470001  17900700  \n",
       "2025-03-25  87.309998  84.620003  86.760002  27908600  \n",
       "2025-03-26  85.559998  84.570000  85.190002  27228800  \n",
       "\n",
       "[2000 rows x 150 columns]"
      ]
     },
     "execution_count": 25,
     "metadata": {},
     "output_type": "execute_result"
    },
    {
     "ename": "",
     "evalue": "",
     "output_type": "error",
     "traceback": [
      "\u001b[1;31mnotebook controller is DISPOSED. \n",
      "\u001b[1;31mView Jupyter <a href='command:jupyter.viewOutput'>log</a> for further details."
     ]
    }
   ],
   "source": [
    "#df = raw_df[-300:]\n",
    "df\n"
   ]
  },
  {
   "cell_type": "code",
   "execution_count": null,
   "metadata": {},
   "outputs": [
    {
     "ename": "",
     "evalue": "",
     "output_type": "error",
     "traceback": [
      "\u001b[1;31mnotebook controller is DISPOSED. \n",
      "\u001b[1;31mView Jupyter <a href='command:jupyter.viewOutput'>log</a> for further details."
     ]
    }
   ],
   "source": [
    "horizon_len = 30\n",
    "patch_len = 32\n",
    "patch_num = 2\n",
    "batch_size = 96\n",
    "hidden_size = 128\n",
    "channels = ['Close', 'High','Low',\t'Open',\t'Volume']"
   ]
  },
  {
   "cell_type": "code",
   "execution_count": null,
   "metadata": {},
   "outputs": [
    {
     "ename": "",
     "evalue": "",
     "output_type": "error",
     "traceback": [
      "\u001b[1;31mnotebook controller is DISPOSED. \n",
      "\u001b[1;31mView Jupyter <a href='command:jupyter.viewOutput'>log</a> for further details."
     ]
    }
   ],
   "source": [
    "def get_model(load_weights: bool = False, horizon_len: int = 7):\n",
    "  device = \"cuda\" if torch.cuda.is_available() else \"cpu\"\n",
    "  repo_id = \"google/timesfm-2.0-500m-pytorch\"\n",
    "  hparams = TimesFmHparams(\n",
    "      backend=device,\n",
    "      per_core_batch_size=32,\n",
    "      horizon_len=horizon_len,\n",
    "      num_layers=50,\n",
    "      use_positional_embedding=False,\n",
    "      context_len=2048,  # Context length can be anything up to 2048 in multiples of 32\n",
    "      input_patch_len=patch_len\n",
    "  )\n",
    "  tfm = TimesFm(hparams=hparams,\n",
    "                checkpoint=TimesFmCheckpoint(huggingface_repo_id=repo_id))\n",
    "\n",
    "  model = PatchedTimeSeriesDecoder(tfm._model_config)\n",
    "  if load_weights:\n",
    "    checkpoint_path = path.join(snapshot_download(repo_id), \"torch_model.ckpt\")\n",
    "    loaded_checkpoint = torch.load(checkpoint_path, weights_only=True)\n",
    "    model.load_state_dict(loaded_checkpoint)\n",
    "  return model, hparams, tfm._model_config"
   ]
  },
  {
   "cell_type": "code",
   "execution_count": null,
   "metadata": {},
   "outputs": [
    {
     "data": {
      "application/vnd.jupyter.widget-view+json": {
       "model_id": "ad7486619c974067ae5c0e12d3add86f",
       "version_major": 2,
       "version_minor": 0
      },
      "text/plain": [
       "Fetching 5 files:   0%|          | 0/5 [00:00<?, ?it/s]"
      ]
     },
     "metadata": {},
     "output_type": "display_data"
    },
    {
     "data": {
      "application/vnd.jupyter.widget-view+json": {
       "model_id": "09b5e5fb2a6d4a15bdd91f90b3398ef9",
       "version_major": 2,
       "version_minor": 0
      },
      "text/plain": [
       "Fetching 5 files:   0%|          | 0/5 [00:00<?, ?it/s]"
      ]
     },
     "metadata": {},
     "output_type": "display_data"
    },
    {
     "ename": "",
     "evalue": "",
     "output_type": "error",
     "traceback": [
      "\u001b[1;31mnotebook controller is DISPOSED. \n",
      "\u001b[1;31mView Jupyter <a href='command:jupyter.viewOutput'>log</a> for further details."
     ]
    }
   ],
   "source": [
    "sfm_model, a, b = get_model(load_weights=True)"
   ]
  },
  {
   "cell_type": "code",
   "execution_count": null,
   "metadata": {},
   "outputs": [
    {
     "data": {
      "text/plain": [
       "PatchedTimeSeriesDecoder(\n",
       "  (input_ff_layer): ResidualBlock(\n",
       "    (hidden_layer): Sequential(\n",
       "      (0): Linear(in_features=64, out_features=1280, bias=True)\n",
       "      (1): SiLU()\n",
       "    )\n",
       "    (output_layer): Linear(in_features=1280, out_features=1280, bias=True)\n",
       "    (residual_layer): Linear(in_features=64, out_features=1280, bias=True)\n",
       "  )\n",
       "  (freq_emb): Embedding(3, 1280)\n",
       "  (horizon_ff_layer): ResidualBlock(\n",
       "    (hidden_layer): Sequential(\n",
       "      (0): Linear(in_features=1280, out_features=1280, bias=True)\n",
       "      (1): SiLU()\n",
       "    )\n",
       "    (output_layer): Linear(in_features=1280, out_features=1280, bias=True)\n",
       "    (residual_layer): Linear(in_features=1280, out_features=1280, bias=True)\n",
       "  )\n",
       "  (stacked_transformer): StackedDecoder(\n",
       "    (layers): ModuleList(\n",
       "      (0-49): 50 x TimesFMDecoderLayer(\n",
       "        (self_attn): TimesFMAttention(\n",
       "          (qkv_proj): Linear(in_features=1280, out_features=3840, bias=True)\n",
       "          (o_proj): Linear(in_features=1280, out_features=1280, bias=True)\n",
       "        )\n",
       "        (mlp): TransformerMLP(\n",
       "          (gate_proj): Linear(in_features=1280, out_features=1280, bias=True)\n",
       "          (down_proj): Linear(in_features=1280, out_features=1280, bias=True)\n",
       "          (layer_norm): LayerNorm((1280,), eps=1e-06, elementwise_affine=True)\n",
       "        )\n",
       "        (input_layernorm): RMSNorm()\n",
       "      )\n",
       "    )\n",
       "  )\n",
       ")"
      ]
     },
     "execution_count": 29,
     "metadata": {},
     "output_type": "execute_result"
    },
    {
     "ename": "",
     "evalue": "",
     "output_type": "error",
     "traceback": [
      "\u001b[1;31mnotebook controller is DISPOSED. \n",
      "\u001b[1;31mView Jupyter <a href='command:jupyter.viewOutput'>log</a> for further details."
     ]
    }
   ],
   "source": [
    "sfm_model.to('cuda')"
   ]
  },
  {
   "cell_type": "code",
   "execution_count": null,
   "metadata": {},
   "outputs": [
    {
     "ename": "",
     "evalue": "",
     "output_type": "error",
     "traceback": [
      "\u001b[1;31mnotebook controller is DISPOSED. \n",
      "\u001b[1;31mView Jupyter <a href='command:jupyter.viewOutput'>log</a> for further details."
     ]
    }
   ],
   "source": [
    "from deepdow.utils import raw_to_Xy\n",
    "\n",
    "\n",
    "n_timesteps = len(df)  # 20\n",
    "n_channels = len(channels)  # 2\n",
    "n_assets = len(df.columns.levels[0])  # 2\n",
    "\n",
    "lookback, gap, horizon = patch_len*patch_num, 2, horizon_len\n",
    "\n",
    "X, timestamps, y, asset_names, indicators = raw_to_Xy(df,\n",
    "                                                      lookback=lookback,\n",
    "                                                      gap=gap,\n",
    "                                                      freq=\"B\",\n",
    "                                                      horizon=horizon,\n",
    "                                                      included_indicators=channels)\n",
    "\n",
    "n_samples =  n_timesteps - lookback - horizon - gap + 1  # 10\n",
    "\n",
    "# assert X.shape == (n_samples, n_channels, lookback, n_assets)\n",
    "# assert timestamps[0] == raw_df.index[lookback]\n",
    "# assert asset_names == tickers\n",
    "# assert indicators == ['Close', 'High', 'Low', 'Open', 'Volume']"
   ]
  },
  {
   "cell_type": "code",
   "execution_count": null,
   "metadata": {},
   "outputs": [
    {
     "name": "stdout",
     "output_type": "stream",
     "text": [
      "X: (1980, 5, 64, 30), y: (1980, 5, 30, 30)\n"
     ]
    },
    {
     "ename": "",
     "evalue": "",
     "output_type": "error",
     "traceback": [
      "\u001b[1;31mnotebook controller is DISPOSED. \n",
      "\u001b[1;31mView Jupyter <a href='command:jupyter.viewOutput'>log</a> for further details."
     ]
    }
   ],
   "source": [
    "print('X: {}, y: {}'.format(X.shape, y.shape))"
   ]
  },
  {
   "cell_type": "code",
   "execution_count": null,
   "metadata": {},
   "outputs": [
    {
     "data": {
      "text/plain": [
       "1905"
      ]
     },
     "execution_count": 32,
     "metadata": {},
     "output_type": "execute_result"
    },
    {
     "ename": "",
     "evalue": "",
     "output_type": "error",
     "traceback": [
      "\u001b[1;31mnotebook controller is DISPOSED. \n",
      "\u001b[1;31mView Jupyter <a href='command:jupyter.viewOutput'>log</a> for further details."
     ]
    }
   ],
   "source": [
    "n_samples"
   ]
  },
  {
   "cell_type": "code",
   "execution_count": null,
   "metadata": {},
   "outputs": [
    {
     "name": "stdout",
     "output_type": "stream",
     "text": [
      "Train range: 0:1713\n",
      "Test range: 1808:1904\n"
     ]
    },
    {
     "ename": "",
     "evalue": "",
     "output_type": "error",
     "traceback": [
      "\u001b[1;31mnotebook controller is DISPOSED. \n",
      "\u001b[1;31mView Jupyter <a href='command:jupyter.viewOutput'>log</a> for further details."
     ]
    }
   ],
   "source": [
    "split_ix = int(n_samples * 0.9)\n",
    "indices_train = list(range(split_ix))\n",
    "indices_test = list(range(split_ix + lookback + horizon, n_samples))\n",
    "\n",
    "print('Train range: {}:{}\\nTest range: {}:{}'.format(indices_train[0], indices_train[-1],\n",
    "                                                     indices_test[0], indices_test[-1]))"
   ]
  },
  {
   "cell_type": "code",
   "execution_count": null,
   "metadata": {},
   "outputs": [
    {
     "data": {
      "text/plain": [
       "[<matplotlib.lines.Line2D at 0x7fded63086d0>]"
      ]
     },
     "execution_count": 34,
     "metadata": {},
     "output_type": "execute_result"
    },
    {
     "data": {
      "image/png": "[encoded data removed]",
      "text/plain": [
       "<Figure size 640x480 with 1 Axes>"
      ]
     },
     "metadata": {},
     "output_type": "display_data"
    },
    {
     "ename": "",
     "evalue": "",
     "output_type": "error",
     "traceback": [
      "\u001b[1;31mnotebook controller is DISPOSED. \n",
      "\u001b[1;31mView Jupyter <a href='command:jupyter.viewOutput'>log</a> for further details."
     ]
    }
   ],
   "source": [
    "plt.plot(X[1, 1, :, 1])"
   ]
  },
  {
   "cell_type": "code",
   "execution_count": null,
   "metadata": {},
   "outputs": [
    {
     "name": "stdout",
     "output_type": "stream",
     "text": [
      "mean: [0.00039184 0.00039121 0.00038837 0.00038901 0.00021096], std: [0.01793062 0.01557954 0.01650678 0.01744592 0.34394059]\n"
     ]
    },
    {
     "ename": "",
     "evalue": "",
     "output_type": "error",
     "traceback": [
      "\u001b[1;31mnotebook controller is DISPOSED. \n",
      "\u001b[1;31mView Jupyter <a href='command:jupyter.viewOutput'>log</a> for further details."
     ]
    }
   ],
   "source": [
    "means, stds = prepare_standard_scaler(X, indices=indices_train)\n",
    "print('mean: {}, std: {}'.format(means, stds))"
   ]
  },
  {
   "cell_type": "code",
   "execution_count": null,
   "metadata": {},
   "outputs": [
    {
     "ename": "",
     "evalue": "",
     "output_type": "error",
     "traceback": [
      "\u001b[1;31mnotebook controller is DISPOSED. \n",
      "\u001b[1;31mView Jupyter <a href='command:jupyter.viewOutput'>log</a> for further details."
     ]
    }
   ],
   "source": [
    "dataset = InRAMDataset(X, y, transform=Scale(means, stds))"
   ]
  },
  {
   "cell_type": "code",
   "execution_count": null,
   "metadata": {},
   "outputs": [
    {
     "ename": "",
     "evalue": "",
     "output_type": "error",
     "traceback": [
      "\u001b[1;31mnotebook controller is DISPOSED. \n",
      "\u001b[1;31mView Jupyter <a href='command:jupyter.viewOutput'>log</a> for further details."
     ]
    }
   ],
   "source": [
    "dataloader_train = RigidDataLoader(dataset,\n",
    "                                   indices=indices_train,\n",
    "                                   batch_size=batch_size)\n",
    "\n",
    "dataloader_test = RigidDataLoader(dataset,\n",
    "                                  indices=indices_test,\n",
    "                                  batch_size=batch_size)"
   ]
  },
  {
   "cell_type": "code",
   "execution_count": null,
   "metadata": {},
   "outputs": [
    {
     "ename": "",
     "evalue": "",
     "output_type": "error",
     "traceback": [
      "\u001b[1;31mnotebook controller is DISPOSED. \n",
      "\u001b[1;31mView Jupyter <a href='command:jupyter.viewOutput'>log</a> for further details."
     ]
    }
   ],
   "source": [
    "device = 'cuda'"
   ]
  },
  {
   "cell_type": "code",
   "execution_count": null,
   "metadata": {},
   "outputs": [
    {
     "ename": "",
     "evalue": "",
     "output_type": "error",
     "traceback": [
      "\u001b[1;31mnotebook controller is DISPOSED. \n",
      "\u001b[1;31mView Jupyter <a href='command:jupyter.viewOutput'>log</a> for further details."
     ]
    }
   ],
   "source": [
    "class GreatNet(torch.nn.Module, Benchmark):\n",
    "    def __init__(self, n_assets, lookback, channels, hidden_size = 128, p=0.1, max_weight=1., n_output_channels = 4):\n",
    "        super().__init__()\n",
    "\n",
    "        super().__init__()\n",
    "\n",
    "        n_features =  patch_num * 128 # 输入特征数\n",
    "        \n",
    "     \n",
    "        self.CollapseChannel = Conv(n_input_channels=channels,\n",
    "             n_output_channels=1,\n",
    "             kernel_size=3,\n",
    "             method='2D')\n",
    "        layers = []\n",
    "\n",
    "        layers.append(nn.Linear(channels, 1))\n",
    "        layers.append(nn.ReLU())\n",
    "        self.CollapseChannel = nn.Sequential(*layers)\n",
    "        \n",
    "        # self.CollapseSFM = Conv(n_input_channels=n_features,\n",
    "        #      n_output_channels=hidden_size,\n",
    "        #      kernel_size=3,\n",
    "        #      method='1D')\n",
    "        \n",
    "        # self.CollapseSFM_2 = Conv(n_input_channels=hidden_size,\n",
    "        #      n_output_channels=1,\n",
    "        #      kernel_size=3,\n",
    "        #      method='1D')\n",
    "        # 参数\n",
    "        d_model = 128  # 隐藏维度\n",
    "        nhead = 8      # 注意力头数\n",
    "        num_encoder_layers = 6  # 编码器层数\n",
    "        num_decoder_layers = 6  # 解码器层数\n",
    "        dim_feedforward = 2048  # 前馈层中间维度\n",
    "        self.decode_layer = nn.TransformerDecoderLayer(\n",
    "                d_model=d_model,\n",
    "                nhead=nhead,\n",
    "                dim_feedforward=dim_feedforward,\n",
    "                dropout=p,\n",
    "                batch_first=True\n",
    "            )\n",
    "        self.decoder = nn.TransformerDecoder(self.decoder_layer, num_layers=num_decoder_layers)\n",
    "        layers = []\n",
    "\n",
    "        layers.append(nn.Linear(n_features, 1))\n",
    "        layers.append(nn.ReLU())\n",
    "        self.CollapseSFM = nn.Sequential(*layers)\n",
    "        \n",
    "        self.layer_L3 = AverageCollapse()\n",
    "        self.layer_L4 = CovarianceMatrix(sqrt=False)\n",
    "        self.layer_L5 = NumericalMarkowitz(n_assets)\n",
    "        # Dropout 层\n",
    "        self.dropout_layer = nn.Dropout(p=p)\n",
    "        \n",
    "        # 10 层网络\n",
    "        layers = []\n",
    "        # 第 1 层：输入层\n",
    "        layers.append(nn.Linear(patch_num*1280, hidden_size))\n",
    "        layers.append(nn.ReLU())\n",
    "        \n",
    "        \n",
    "        # 将所有层组合成 Sequential\n",
    "        self.network = nn.Sequential(*layers)\n",
    "        self.dense_layer = torch.nn.Linear(n_features, n_assets, bias=True)\n",
    "        # Softmax 分配层和温度参数\n",
    "        self.allocate_layer = SoftmaxAllocator(temperature=None, n_assets= n_assets, formulation='variational', max_weight=0.5)\n",
    "        self.temperature = nn.Parameter(torch.ones(1), requires_grad=True)\n",
    "        \n",
    "\n",
    "    def forward(self, x):\n",
    "        \"\"\"Perform forward pass.\n",
    "\n",
    "        Parameters\n",
    "        ----------\n",
    "        x : torch.Tensor\n",
    "            Of shape (n_samples, 1, lookback, n_assets).\n",
    "\n",
    "        Returns\n",
    "        -------\n",
    "        weights : torch.Torch\n",
    "            Tensor of shape (n_samples, n_assets).\n",
    "\n",
    "        \"\"\"\n",
    "        n_samples, channels, lookback, n_assets = x.shape\n",
    "        # x = x.permute(0, 3, 1, 2)\n",
    "        # x = x.reshape(n_samples, n_assets*channels, -1) \n",
    "        with torch.no_grad():\n",
    "            xx_list = []\n",
    "            for i in range(channels):\n",
    "                xx = x[:,i,:,:].squeeze(1)\n",
    "                xx = xx.permute(0, 2, 1)\n",
    "                xx = xx.contiguous()\n",
    "                input_padding = torch.zeros_like(xx).to(device)\n",
    "                freq = torch.tensor([0], dtype=torch.long).to(device)\n",
    "                xx = sfm_model(xx, input_padding, freq)\n",
    "                xx = xx[:,:,:,5]\n",
    "                #xx = xx.squeeze(2)\n",
    "                #xx = xx.unsqueeze(1) # B, 1, n_assets*patch_num, 128\n",
    "                \n",
    "                xx_list.append(xx)\n",
    "        x = self.decode_layer(xx)\n",
    "        x = torch.cat(xx_list, dim=1) # B, channels, n_assets*patch_num, 128\n",
    "        x = x.view(n_samples, channels, n_assets, patch_num*128)  # \n",
    "        x = x.permute(0,2,3,1) # B, n_assets, patch_num*128, channels,   ## B, channels, patch_num*128, n_assets\n",
    "        #x = x.reshape(n_samples, n_assets, channels*patch_num*128) # B, n_assets, channels*patch_num*128\n",
    "        x = self.CollapseChannel(x) # B,  n_assets,  patch_num*128, 1\n",
    "        x = self.dropout_layer(x)\n",
    "        x = x.squeeze(-1)\n",
    "        \n",
    "\n",
    "        x = self.CollapseSFM(x) # B,  n_assets,   1\n",
    "        x = self.dropout_layer(x)\n",
    "        \n",
    "        # x = self.CollapseSFM_2(x)\n",
    "        # x = self.dropout_layer(x)\n",
    "        \n",
    "        x = x.squeeze(-1)\n",
    "        \n",
    "        #x = self.dense_layer(x)\n",
    "        # 计算权重\n",
    "        temperatures = torch.ones(n_samples).to(device=x.device, dtype=x.dtype) * self.temperature\n",
    "        weights = self.allocate_layer(x, temperatures)\n",
    "\n",
    "        return weights"
   ]
  },
  {
   "cell_type": "code",
   "execution_count": null,
   "metadata": {},
   "outputs": [
    {
     "ename": "",
     "evalue": "",
     "output_type": "error",
     "traceback": [
      "\u001b[1;31mnotebook controller is DISPOSED. \n",
      "\u001b[1;31mView Jupyter <a href='command:jupyter.viewOutput'>log</a> for further details."
     ]
    }
   ],
   "source": [
    "class DeepNet(torch.nn.Module, Benchmark):\n",
    "    def __init__(self, n_assets, lookback, channels, hidden_size = 128, p=0.1, max_weight=1., n_output_channels = 4):\n",
    "        super().__init__()\n",
    "\n",
    "        super().__init__()\n",
    "\n",
    "        n_features =  patch_num * 128 # 输入特征数\n",
    "        \n",
    "     \n",
    "        self.CollapseChannel = Conv(n_input_channels=channels,\n",
    "             n_output_channels=1,\n",
    "             kernel_size=3,\n",
    "             method='2D')\n",
    "        \n",
    "\n",
    "        # 参数\n",
    "        d_model = 128  # 隐藏维度\n",
    "        nhead = 8      # 注意力头数\n",
    "        num_encoder_layers = 6  # 编码器层数\n",
    "        num_decoder_layers = 6  # 解码器层数\n",
    "        dim_feedforward = 2048  # 前馈层中间维度\n",
    "        self.decode_layer = nn.TransformerDecoderLayer(\n",
    "                d_model=d_model,\n",
    "                nhead=nhead,\n",
    "                dim_feedforward=dim_feedforward,\n",
    "                dropout=p,\n",
    "                batch_first=True\n",
    "            )\n",
    "        self.decoder = nn.TransformerDecoder(self.decoder_layer, num_layers=num_decoder_layers)\n",
    "        layers = []\n",
    "\n",
    "        layers.append(nn.Linear(n_features, 1))\n",
    "        layers.append(nn.ReLU())\n",
    "        self.CollapseSFM = nn.Sequential(*layers)\n",
    "        \n",
    "        self.layer_L3 = AverageCollapse()\n",
    "        self.layer_L4 = CovarianceMatrix(sqrt=False)\n",
    "        self.layer_L5 = NumericalMarkowitz(n_assets)\n",
    "        # Dropout 层\n",
    "        self.dropout_layer = nn.Dropout(p=p)\n",
    "        \n",
    "        # 10 层网络\n",
    "        layers = []\n",
    "        # 第 1 层：输入层\n",
    "        layers.append(nn.Linear(patch_num*1280, hidden_size))\n",
    "        layers.append(nn.ReLU())\n",
    "        \n",
    "        \n",
    "        # 将所有层组合成 Sequential\n",
    "        self.network = nn.Sequential(*layers)\n",
    "        self.dense_layer = torch.nn.Linear(n_features, n_assets, bias=True)\n",
    "        # Softmax 分配层和温度参数\n",
    "        self.allocate_layer = SoftmaxAllocator(temperature=None, n_assets= n_assets, formulation='variational', max_weight=0.5)\n",
    "        self.temperature = nn.Parameter(torch.ones(1), requires_grad=True)\n",
    "        \n",
    "\n",
    "    def forward(self, x):\n",
    "        \"\"\"Perform forward pass.\n",
    "\n",
    "        Parameters\n",
    "        ----------\n",
    "        x : torch.Tensor\n",
    "            Of shape (n_samples, 1, lookback, n_assets).\n",
    "\n",
    "        Returns\n",
    "        -------\n",
    "        weights : torch.Torch\n",
    "            Tensor of shape (n_samples, n_assets).\n",
    "\n",
    "        \"\"\"\n",
    "        n_samples, channels, lookback, n_assets = x.shape\n",
    "        x = self.CollapseChannel(x) # B, lookback, n_assets\n",
    "                \n",
    "        with torch.no_grad():\n",
    "            \n",
    "            input_padding = torch.zeros_like(xx).to(device)\n",
    "            freq = torch.tensor([0], dtype=torch.long).to(device)\n",
    "            x = sfm_model(x, input_padding, freq) # B, n_assets*patch_num, 128\n",
    "                \n",
    "        x = self.decode_layer(x)\n",
    "        \n",
    "        x = x.view(n_samples, n_assets, -1)\n",
    "        \n",
    "        \n",
    "        \n",
    "        x = self.dense_layer(x)\n",
    "        # 计算权重\n",
    "        temperatures = torch.ones(n_samples).to(device=x.device, dtype=x.dtype) * self.temperature\n",
    "        weights = self.allocate_layer(x, temperatures)\n",
    "\n",
    "        return weights"
   ]
  },
  {
   "cell_type": "code",
   "execution_count": null,
   "metadata": {},
   "outputs": [
    {
     "ename": "",
     "evalue": "",
     "output_type": "error",
     "traceback": [
      "\u001b[1;31mnotebook controller is DISPOSED. \n",
      "\u001b[1;31mView Jupyter <a href='command:jupyter.viewOutput'>log</a> for further details."
     ]
    }
   ],
   "source": [
    "network = DeepNet(n_assets, lookback, channels=n_channels, hidden_size=hidden_size)\n"
   ]
  },
  {
   "cell_type": "code",
   "execution_count": null,
   "metadata": {},
   "outputs": [
    {
     "data": {
      "text/plain": [
       "GreatNet(\n",
       "  (CollapseChannel): Sequential(\n",
       "    (0): Linear(in_features=5, out_features=1, bias=True)\n",
       "    (1): ReLU()\n",
       "  )\n",
       "  (CollapseSFM): Sequential(\n",
       "    (0): Linear(in_features=256, out_features=1, bias=True)\n",
       "    (1): ReLU()\n",
       "  )\n",
       "  (layer_L3): AverageCollapse()\n",
       "  (layer_L4): CovarianceMatrix()\n",
       "  (layer_L5): NumericalMarkowitz(\n",
       "    (cvxpylayer): CvxpyLayer()\n",
       "  )\n",
       "  (dropout_layer): Dropout(p=0.1, inplace=False)\n",
       "  (network): Sequential(\n",
       "    (0): Linear(in_features=2560, out_features=128, bias=True)\n",
       "    (1): ReLU()\n",
       "  )\n",
       "  (dense_layer): Linear(in_features=256, out_features=30, bias=True)\n",
       "  (allocate_layer): SoftmaxAllocator(\n",
       "    (layer): CvxpyLayer()\n",
       "  )\n",
       ")"
      ]
     },
     "execution_count": 41,
     "metadata": {},
     "output_type": "execute_result"
    },
    {
     "ename": "",
     "evalue": "",
     "output_type": "error",
     "traceback": [
      "\u001b[1;31mnotebook controller is DISPOSED. \n",
      "\u001b[1;31mView Jupyter <a href='command:jupyter.viewOutput'>log</a> for further details."
     ]
    }
   ],
   "source": [
    "network"
   ]
  },
  {
   "cell_type": "code",
   "execution_count": null,
   "metadata": {},
   "outputs": [
    {
     "ename": "",
     "evalue": "",
     "output_type": "error",
     "traceback": [
      "\u001b[1;31mnotebook controller is DISPOSED. \n",
      "\u001b[1;31mView Jupyter <a href='command:jupyter.viewOutput'>log</a> for further details."
     ]
    }
   ],
   "source": [
    "network_to_train = network.train() "
   ]
  },
  {
   "cell_type": "code",
   "execution_count": null,
   "metadata": {},
   "outputs": [
    {
     "ename": "",
     "evalue": "",
     "output_type": "error",
     "traceback": [
      "\u001b[1;31mnotebook controller is DISPOSED. \n",
      "\u001b[1;31mView Jupyter <a href='command:jupyter.viewOutput'>log</a> for further details."
     ]
    }
   ],
   "source": [
    "#loss = MaximumDrawdown() + 2 * MeanReturns() + SharpeRatio(rf=0.000)\n",
    "loss = MeanReturns()"
   ]
  },
  {
   "cell_type": "code",
   "execution_count": null,
   "metadata": {},
   "outputs": [
    {
     "ename": "",
     "evalue": "",
     "output_type": "error",
     "traceback": [
      "\u001b[1;31mnotebook controller is DISPOSED. \n",
      "\u001b[1;31mView Jupyter <a href='command:jupyter.viewOutput'>log</a> for further details."
     ]
    }
   ],
   "source": [
    "run = Run(network_to_train,\n",
    "          loss,\n",
    "          dataloader_train,\n",
    "          val_dataloaders={'test': dataloader_test},\n",
    "          optimizer=torch.optim.Adam(network.parameters(), amsgrad=True),\n",
    "          callbacks=[EarlyStoppingCallback(metric_name='loss',\n",
    "                                           dataloader_name='test',\n",
    "                                           patience=3),\n",
    "                     ModelCheckpointCallback(folder_path='./models/',\n",
    "                                             dataloader_name='test',\n",
    "                                             metric_name='loss')],\n",
    "          device=device\n",
    "          )\n",
    "\n",
    "#"
   ]
  },
  {
   "cell_type": "code",
   "execution_count": 45,
   "metadata": {},
   "outputs": [
    {
     "name": "stderr",
     "output_type": "stream",
     "text": [
      "Epoch 0: 100%|██████████| 18/18 [00:52<00:00,  2.92s/it, loss=-0.00053, test_loss=-0.00082]\n",
      "Epoch 1: 100%|██████████| 18/18 [00:48<00:00,  2.70s/it, loss=-0.00053, test_loss=-0.00082]\n",
      "Epoch 2: 100%|██████████| 18/18 [00:53<00:00,  3.00s/it, loss=-0.00053, test_loss=-0.00082]\n",
      "Epoch 3: 100%|██████████| 18/18 [00:49<00:00,  2.72s/it, loss=-0.00054, test_loss=-0.00082]\n"
     ]
    },
    {
     "name": "stdout",
     "output_type": "stream",
     "text": [
      "Training interrupted\n",
      "Training stopped early because there was no improvement in test_loss for 3 epochs\n"
     ]
    }
   ],
   "source": [
    "history = run.launch(30)"
   ]
  },
  {
   "cell_type": "code",
   "execution_count": 46,
   "metadata": {},
   "outputs": [
    {
     "name": "stdout",
     "output_type": "stream",
     "text": [
      "dataloader  metric  model    epoch\n",
      "test        loss    network  0        97\n",
      "                             1        97\n",
      "                             2        97\n",
      "                             3        97\n",
      "Name: value, dtype: int64\n",
      "dataloader  metric  model    epoch\n",
      "test        loss    network  0       -0.000818\n",
      "                             1       -0.000818\n",
      "                             2       -0.000818\n",
      "                             3       -0.000817\n",
      "Name: value, dtype: float32\n"
     ]
    }
   ],
   "source": [
    "per_epoch_results = history.metrics.groupby(['dataloader', 'metric', 'model', 'epoch'])['value']\n",
    "\n",
    "print(per_epoch_results.count())  # double check number of samples each epoch\n",
    "print(per_epoch_results.mean())  # mean loss per epoch"
   ]
  },
  {
   "cell_type": "code",
   "execution_count": 47,
   "metadata": {},
   "outputs": [
    {
     "data": {
      "text/plain": [
       "<Axes: xlabel='epoch'>"
      ]
     },
     "execution_count": 47,
     "metadata": {},
     "output_type": "execute_result"
    },
    {
     "data": {
      "image/png": "[encoded data removed]",
      "text/plain": [
       "<Figure size 640x480 with 1 Axes>"
      ]
     },
     "metadata": {},
     "output_type": "display_data"
    }
   ],
   "source": [
    "per_epoch_results.mean()['test']['loss']['network'].plot()"
   ]
  },
  {
   "cell_type": "code",
   "execution_count": null,
   "metadata": {},
   "outputs": [],
   "source": [
    "#network = torch.load('models/model_04__-0.0869.pth', weights_only=False)"
   ]
  },
  {
   "cell_type": "code",
   "execution_count": 48,
   "metadata": {},
   "outputs": [],
   "source": [
    "network = network.eval()"
   ]
  },
  {
   "cell_type": "code",
   "execution_count": 49,
   "metadata": {},
   "outputs": [],
   "source": [
    "benchmarks = {\n",
    "    '1overN': OneOverN(),  # each asset has weight 1 / n_assets\n",
    "    'random': Random(),  # random allocation that is however close 1OverN\n",
    "    'network': network\n",
    "}"
   ]
  },
  {
   "cell_type": "code",
   "execution_count": 50,
   "metadata": {},
   "outputs": [],
   "source": [
    "metrics = {\n",
    "    'MaxDD': MaximumDrawdown(),\n",
    "    'Sharpe': SharpeRatio(),\n",
    "    'MeanReturn': MeanReturns()\n",
    "}"
   ]
  },
  {
   "cell_type": "code",
   "execution_count": 51,
   "metadata": {},
   "outputs": [],
   "source": [
    "metrics_table = generate_metrics_table(benchmarks,\n",
    "                                       dataloader_test,\n",
    "                                       metrics,\n",
    "                                       device='cuda')"
   ]
  },
  {
   "cell_type": "code",
   "execution_count": 52,
   "metadata": {},
   "outputs": [
    {
     "data": {
      "text/plain": [
       "array([<Axes: title={'center': 'MaxDD'}, xlabel='timestamp'>,\n",
       "       <Axes: title={'center': 'Sharpe'}, xlabel='timestamp'>,\n",
       "       <Axes: title={'center': 'MeanReturn'}, xlabel='timestamp'>],\n",
       "      dtype=object)"
      ]
     },
     "execution_count": 52,
     "metadata": {},
     "output_type": "execute_result"
    },
    {
     "data": {
      "image/png": "[encoded data removed]",
      "text/plain": [
       "<Figure size 640x480 with 3 Axes>"
      ]
     },
     "metadata": {},
     "output_type": "display_data"
    }
   ],
   "source": [
    "plot_metrics(metrics_table)"
   ]
  },
  {
   "cell_type": "code",
   "execution_count": 53,
   "metadata": {},
   "outputs": [],
   "source": [
    "weight_table = generate_weights_table(network, dataloader_test,device = device)"
   ]
  },
  {
   "cell_type": "code",
   "execution_count": 54,
   "metadata": {},
   "outputs": [
    {
     "data": {
      "text/plain": [
       "<Axes: >"
      ]
     },
     "execution_count": 54,
     "metadata": {},
     "output_type": "execute_result"
    },
    {
     "data": {
      "image/png": "[encoded data removed]",
      "text/plain": [
       "<Figure size 640x480 with 2 Axes>"
      ]
     },
     "metadata": {},
     "output_type": "display_data"
    }
   ],
   "source": [
    "plot_weight_heatmap(weight_table,\n",
    "                    add_sum_column=True,\n",
    "                    time_format=None,\n",
    "                    time_skips=25)"
   ]
  }
 ],
 "metadata": {
  "kernelspec": {
   "display_name": "ts",
   "language": "python",
   "name": "python3"
  },
  "language_info": {
   "codemirror_mode": {
    "name": "ipython",
    "version": 3
   },
   "file_extension": ".py",
   "mimetype": "text/x-python",
   "name": "python",
   "nbconvert_exporter": "python",
   "pygments_lexer": "ipython3",
   "version": "3.11.11"
  }
 },
 "nbformat": 4,
 "nbformat_minor": 2
}
