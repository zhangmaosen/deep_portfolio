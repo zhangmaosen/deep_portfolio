{
 "cells": [
  {
   "cell_type": "code",
   "execution_count": 1,
   "id": "5e3681b1",
   "metadata": {},
   "outputs": [],
   "source": [
    "import pandas as pd\n",
    "df = pd.read_parquet('df.parquet')"
   ]
  },
  {
   "cell_type": "code",
   "execution_count": 2,
   "id": "21f491b8",
   "metadata": {},
   "outputs": [],
   "source": [
    "horizon_len = 7\n",
    "patch_len = 32\n",
    "patch_num = 20\n",
    "batch_size = 32\n",
    "hidden_size = 128\n",
    "channels = ['Close', 'High','Low',\t'Open',\t'Volume']"
   ]
  },
  {
   "cell_type": "code",
   "execution_count": 3,
   "id": "538aab64",
   "metadata": {},
   "outputs": [],
   "source": [
    "from deepdow.utils import raw_to_Xy\n",
    "\n",
    "\n",
    "n_timesteps = len(df)  # 20\n",
    "n_channels = len(channels)  # 2\n",
    "#n_assets = len(df.columns.levels[0])  # 2\n",
    "\n",
    "lookback, gap, horizon = patch_len*patch_num, 2, horizon_len\n",
    "\n",
    "X, timestamps, y, asset_names, indicators = raw_to_Xy(df,\n",
    "                                                      lookback=lookback,\n",
    "                                                      gap=gap,\n",
    "                                                      freq=\"B\",\n",
    "                                                      horizon=horizon,\n",
    "                                                      included_indicators=channels)\n",
    "\n",
    "n_samples =  n_timesteps - lookback - horizon - gap + 1  # 10\n",
    "n_assets = len(asset_names)\n"
   ]
  },
  {
   "cell_type": "code",
   "execution_count": 4,
   "id": "f586e200",
   "metadata": {},
   "outputs": [
    {
     "data": {
      "text/plain": [
       "(4309, 5, 640, 30)"
      ]
     },
     "execution_count": 4,
     "metadata": {},
     "output_type": "execute_result"
    }
   ],
   "source": [
    "X.shape"
   ]
  },
  {
   "cell_type": "code",
   "execution_count": 5,
   "id": "d2a176d9",
   "metadata": {},
   "outputs": [
    {
     "data": {
      "text/plain": [
       "DatetimeIndex(['2008-09-08', '2008-09-09', '2008-09-10', '2008-09-11',\n",
       "               '2008-09-12', '2008-09-15', '2008-09-16', '2008-09-17',\n",
       "               '2008-09-18', '2008-09-19',\n",
       "               ...\n",
       "               '2025-02-28', '2025-03-03', '2025-03-04', '2025-03-05',\n",
       "               '2025-03-06', '2025-03-07', '2025-03-10', '2025-03-11',\n",
       "               '2025-03-12', '2025-03-13'],\n",
       "              dtype='datetime64[ns]', length=4309, freq='B')"
      ]
     },
     "execution_count": 5,
     "metadata": {},
     "output_type": "execute_result"
    }
   ],
   "source": [
    "timestamps"
   ]
  },
  {
   "cell_type": "code",
   "execution_count": 6,
   "id": "99689099",
   "metadata": {},
   "outputs": [
    {
     "name": "stdout",
     "output_type": "stream",
     "text": [
      "Train range: 0:4028\n",
      "Test range: 4036:4132\n"
     ]
    }
   ],
   "source": [
    "split_ix = int(n_samples * 0.975)\n",
    "indices_train = list(range(split_ix))\n",
    "indices_test = list(range(split_ix + horizon, n_samples))\n",
    "\n",
    "print('Train range: {}:{}\\nTest range: {}:{}'.format(indices_train[0], indices_train[-1],\n",
    "                                                     indices_test[0], indices_test[-1]))"
   ]
  },
  {
   "cell_type": "code",
   "execution_count": 7,
   "id": "3d849dea",
   "metadata": {},
   "outputs": [
    {
     "name": "stdout",
     "output_type": "stream",
     "text": [
      "mean: [ 0.00043403  0.0004326   0.00043554  0.00043343 -0.00022286], std: [0.01764646 0.01503178 0.01667324 0.01733977 0.3423143 ]\n"
     ]
    }
   ],
   "source": [
    "from deepdow.data import InRAMDataset, RigidDataLoader, prepare_standard_scaler, Scale\n",
    "means, stds = prepare_standard_scaler(X, indices=indices_train)\n",
    "print('mean: {}, std: {}'.format(means, stds))"
   ]
  },
  {
   "cell_type": "code",
   "execution_count": 8,
   "id": "0d54581e",
   "metadata": {},
   "outputs": [],
   "source": [
    "\n",
    "dataset = InRAMDataset(X, y, transform=Scale(means, stds))"
   ]
  },
  {
   "cell_type": "code",
   "execution_count": 9,
   "id": "77d5aa11",
   "metadata": {},
   "outputs": [],
   "source": [
    "dataloader_train = RigidDataLoader(dataset,\n",
    "                                   indices=indices_train,\n",
    "                                   batch_size=batch_size)\n",
    "\n",
    "dataloader_test = RigidDataLoader(dataset,\n",
    "                                  indices=indices_test,\n",
    "                                  batch_size=batch_size)"
   ]
  },
  {
   "cell_type": "code",
   "execution_count": 10,
   "id": "a3e8acbd",
   "metadata": {},
   "outputs": [],
   "source": [
    "tmp = next(iter(dataloader_train))"
   ]
  },
  {
   "cell_type": "code",
   "execution_count": 22,
   "id": "d53853cb",
   "metadata": {},
   "outputs": [
    {
     "data": {
      "text/plain": [
       "4309"
      ]
     },
     "execution_count": 22,
     "metadata": {},
     "output_type": "execute_result"
    }
   ],
   "source": [
    "len(X)"
   ]
  },
  {
   "cell_type": "code",
   "execution_count": 12,
   "id": "3de8189e",
   "metadata": {},
   "outputs": [
    {
     "data": {
      "text/plain": [
       "DatetimeIndex(['2012-11-26', '2012-04-26', '2012-06-04', '2021-10-20',\n",
       "               '2023-05-10', '2022-01-20', '2012-05-17', '2013-11-29',\n",
       "               '2009-03-03', '2010-01-04', '2021-04-09', '2020-10-27',\n",
       "               '2021-08-25', '2013-05-15', '2012-08-17', '2023-11-17',\n",
       "               '2013-07-11', '2014-04-25', '2015-09-28', '2018-08-03',\n",
       "               '2017-10-03', '2019-06-27', '2022-12-29', '2017-06-21',\n",
       "               '2024-01-18', '2015-06-01', '2008-09-09', '2023-08-07',\n",
       "               '2020-06-17', '2012-07-17', '2011-03-31', '2009-05-04'],\n",
       "              dtype='datetime64[ns]', freq=None)"
      ]
     },
     "execution_count": 12,
     "metadata": {},
     "output_type": "execute_result"
    }
   ],
   "source": [
    "timestamps[tmp[2]]"
   ]
  }
 ],
 "metadata": {
  "kernelspec": {
   "display_name": "ts",
   "language": "python",
   "name": "python3"
  },
  "language_info": {
   "codemirror_mode": {
    "name": "ipython",
    "version": 3
   },
   "file_extension": ".py",
   "mimetype": "text/x-python",
   "name": "python",
   "nbconvert_exporter": "python",
   "pygments_lexer": "ipython3",
   "version": "3.11.11"
  }
 },
 "nbformat": 4,
 "nbformat_minor": 5
}
