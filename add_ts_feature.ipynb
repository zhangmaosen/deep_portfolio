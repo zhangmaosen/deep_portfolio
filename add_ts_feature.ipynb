{
 "cells": [
  {
   "cell_type": "code",
   "execution_count": 1,
   "id": "5e3681b1",
   "metadata": {},
   "outputs": [],
   "source": [
    "import pandas as pd\n",
    "df = pd.read_parquet('df.parquet')"
   ]
  },
  {
   "cell_type": "code",
   "execution_count": 3,
   "id": "21f491b8",
   "metadata": {},
   "outputs": [],
   "source": [
    "horizon_len = 7\n",
    "patch_len = 32\n",
    "patch_num = 20\n",
    "batch_size = 32\n",
    "hidden_size = 128\n",
    "channels = ['Close', 'High','Low',\t'Open',\t'Volume']"
   ]
  },
  {
   "cell_type": "code",
   "execution_count": null,
   "id": "538aab64",
   "metadata": {},
   "outputs": [],
   "source": [
    "from deepdow.utils import raw_to_Xy\n",
    "\n",
    "\n",
    "n_timesteps = len(df)  # 20\n",
    "n_channels = len(channels)  # 2\n",
    "#n_assets = len(df.columns.levels[0])  # 2\n",
    "\n",
    "lookback, gap, horizon = patch_len*patch_num, 2, horizon_len\n",
    "\n",
    "X, timestamps, y, asset_names, indicators = raw_to_Xy(df,\n",
    "                                                      lookback=lookback,\n",
    "                                                      gap=gap,\n",
    "                                                      freq=\"B\",\n",
    "                                                      horizon=horizon,\n",
    "                                                      included_indicators=channels)\n",
    "\n",
    "n_samples =  n_timesteps - lookback - horizon - gap + 1  # 10\n",
    "n_assets = len(asset_names)\n"
   ]
  },
  {
   "cell_type": "code",
   "execution_count": 5,
   "id": "f586e200",
   "metadata": {},
   "outputs": [
    {
     "data": {
      "text/plain": [
       "(4309, 5, 640, 30)"
      ]
     },
     "execution_count": 5,
     "metadata": {},
     "output_type": "execute_result"
    }
   ],
   "source": [
    "X.shape"
   ]
  },
  {
   "cell_type": "code",
   "execution_count": 6,
   "id": "d2a176d9",
   "metadata": {},
   "outputs": [
    {
     "data": {
      "text/plain": [
       "DatetimeIndex(['2008-09-08', '2008-09-09', '2008-09-10', '2008-09-11',\n",
       "               '2008-09-12', '2008-09-15', '2008-09-16', '2008-09-17',\n",
       "               '2008-09-18', '2008-09-19',\n",
       "               ...\n",
       "               '2025-02-28', '2025-03-03', '2025-03-04', '2025-03-05',\n",
       "               '2025-03-06', '2025-03-07', '2025-03-10', '2025-03-11',\n",
       "               '2025-03-12', '2025-03-13'],\n",
       "              dtype='datetime64[ns]', length=4309, freq='B')"
      ]
     },
     "execution_count": 6,
     "metadata": {},
     "output_type": "execute_result"
    }
   ],
   "source": [
    "timestamps"
   ]
  },
  {
   "cell_type": "code",
   "execution_count": 9,
   "id": "99689099",
   "metadata": {},
   "outputs": [
    {
     "name": "stdout",
     "output_type": "stream",
     "text": [
      "Train range: 0:4028\n",
      "Test range: 4036:4132\n"
     ]
    }
   ],
   "source": [
    "split_ix = int(n_samples * 0.975)\n",
    "indices_train = list(range(split_ix))\n",
    "indices_test = list(range(split_ix + horizon, n_samples))\n",
    "\n",
    "print('Train range: {}:{}\\nTest range: {}:{}'.format(indices_train[0], indices_train[-1],\n",
    "                                                     indices_test[0], indices_test[-1]))"
   ]
  },
  {
   "cell_type": "code",
   "execution_count": 10,
   "id": "3d849dea",
   "metadata": {},
   "outputs": [
    {
     "name": "stdout",
     "output_type": "stream",
     "text": [
      "mean: [ 0.00043403  0.0004326   0.00043554  0.00043343 -0.00022286], std: [0.01764646 0.01503178 0.01667324 0.01733977 0.3423143 ]\n"
     ]
    }
   ],
   "source": [
    "means, stds = prepare_standard_scaler(X, indices=indices_train)\n",
    "print('mean: {}, std: {}'.format(means, stds))"
   ]
  },
  {
   "cell_type": "code",
   "execution_count": 11,
   "id": "0d54581e",
   "metadata": {},
   "outputs": [],
   "source": [
    "from deepdow.data import InRAMDataset, RigidDataLoader, prepare_standard_scaler, Scale\n",
    "dataset = InRAMDataset(X, y, transform=Scale(means, stds))"
   ]
  },
  {
   "cell_type": "code",
   "execution_count": 13,
   "id": "77d5aa11",
   "metadata": {},
   "outputs": [],
   "source": [
    "dataloader_train = RigidDataLoader(dataset,\n",
    "                                   indices=indices_train,\n",
    "                                   batch_size=batch_size)\n",
    "\n",
    "dataloader_test = RigidDataLoader(dataset,\n",
    "                                  indices=indices_test,\n",
    "                                  batch_size=batch_size)"
   ]
  },
  {
   "cell_type": "code",
   "execution_count": 14,
   "id": "a3e8acbd",
   "metadata": {},
   "outputs": [
    {
     "ename": "AttributeError",
     "evalue": "'RigidDataLoader' object has no attribute 'next'",
     "output_type": "error",
     "traceback": [
      "\u001b[31m---------------------------------------------------------------------------\u001b[39m",
      "\u001b[31mAttributeError\u001b[39m                            Traceback (most recent call last)",
      "\u001b[36mCell\u001b[39m\u001b[36m \u001b[39m\u001b[32mIn[14]\u001b[39m\u001b[32m, line 1\u001b[39m\n\u001b[32m----> \u001b[39m\u001b[32m1\u001b[39m \u001b[43mdataloader_train\u001b[49m\u001b[43m.\u001b[49m\u001b[43mnext\u001b[49m()\n",
      "\u001b[31mAttributeError\u001b[39m: 'RigidDataLoader' object has no attribute 'next'"
     ]
    }
   ],
   "source": [
    "dataloader_train.next()"
   ]
  }
 ],
 "metadata": {
  "kernelspec": {
   "display_name": "ts",
   "language": "python",
   "name": "python3"
  },
  "language_info": {
   "codemirror_mode": {
    "name": "ipython",
    "version": 3
   },
   "file_extension": ".py",
   "mimetype": "text/x-python",
   "name": "python",
   "nbconvert_exporter": "python",
   "pygments_lexer": "ipython3",
   "version": "3.11.11"
  }
 },
 "nbformat": 4,
 "nbformat_minor": 5
}
