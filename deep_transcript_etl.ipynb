{
 "cells": [
  {
   "cell_type": "code",
   "execution_count": 1,
   "id": "face2820",
   "metadata": {},
   "outputs": [],
   "source": [
    "import h5py\n",
    "import torch"
   ]
  },
  {
   "cell_type": "code",
   "execution_count": 2,
   "id": "f4fc4d8b",
   "metadata": {},
   "outputs": [],
   "source": [
    "# 函数：向嵌套字典添加新值\n",
    "def add_to_nested_dict(nested_dict, k1, k2, value):\n",
    "    # 如果 k1 不存在，创建新的子字典\n",
    "    if k1 not in nested_dict:\n",
    "        nested_dict[k1] = {}\n",
    "    \n",
    "    # 如果 k2 不存在，创建新的列表\n",
    "    if k2 not in nested_dict[k1]:\n",
    "        nested_dict[k1][k2] = []\n",
    "    \n",
    "    # 将 value 追加到 k2 对应的列表\n",
    "    nested_dict[k1][k2].append(value)"
   ]
  },
  {
   "cell_type": "code",
   "execution_count": 3,
   "id": "2c10f199",
   "metadata": {},
   "outputs": [],
   "source": [
    "from datetime import datetime\n",
    "all_content = {}\n",
    "output_file = \"hidden_states.h5\"\n",
    "with h5py.File(output_file, \"r\") as f_read:\n",
    "    for k in f_read.keys():\n",
    "        #print(\"文件中的键：\", list(f_read[k]))\n",
    "        for ds in list(f_read[k]):\n",
    "\n",
    "            ts = datetime.strptime(ds.split(\"_\")[-1], \"%Y-%m-%d %H:%M:%S%z\")\n",
    "            day = str(ts.date())\n",
    "            #print(day)\n",
    "            # {k: {ts: f_read[k][ds][:]}}\n",
    "            # all_content[k] = {ts.date():f_read[k][ds][:]}\n",
    "            add_to_nested_dict(all_content, k, day, torch.tensor(f_read[k][ds][:]).to(torch.bfloat16))\n",
    "        #data = f_read[k]['hidden_states_2005-10-13 19:00:40+00:00'][:]\n",
    "        #break"
   ]
  },
  {
   "cell_type": "code",
   "execution_count": 4,
   "id": "640e3049",
   "metadata": {},
   "outputs": [
    {
     "name": "stdout",
     "output_type": "stream",
     "text": [
      "{'2023-01-01': {'name1': [10, 20], 'name2': [5, 15]}, '2023-06-01': {'name1': [30, 40]}, '2023-07-01': {'name2': [25, 35]}}\n"
     ]
    }
   ],
   "source": [
    "def swap_hierarchy(A):\n",
    "    \"\"\"\n",
    "    交换字典 A 的层级，从 {name: {timestamps: [value, value]}} 转换为\n",
    "    {timestamps: {name: [value, value]}}.\n",
    "    \n",
    "    参数:\n",
    "        A: 输入字典，结构为 {name: {timestamps: [value, value]}}\n",
    "    \n",
    "    返回:\n",
    "        new_A: 转换后的字典，结构为 {timestamps: {name: [value, value]}}\n",
    "    \"\"\"\n",
    "    new_A = {}\n",
    "    \n",
    "    # 遍历原始字典\n",
    "    for name, timestamp_dict in A.items():\n",
    "        for timestamp, values in timestamp_dict.items():\n",
    "            # 如果 timestamp 不在 new_A 中，初始化\n",
    "            if timestamp not in new_A:\n",
    "                new_A[timestamp] = {}\n",
    "            # 将 name 和 values 添加到对应的 timestamp 下\n",
    "            new_A[timestamp][name] = values\n",
    "    \n",
    "    return new_A\n",
    "\n",
    "# 示例字典\n",
    "A = {\n",
    "    \"name1\": {\"2023-01-01\": [10, 20], \"2023-06-01\": [30, 40]},\n",
    "    \"name2\": {\"2023-01-01\": [5, 15], \"2023-07-01\": [25, 35]}\n",
    "}\n",
    "\n",
    "# 转换层级\n",
    "result = swap_hierarchy(A)\n",
    "print(result)"
   ]
  },
  {
   "cell_type": "code",
   "execution_count": 5,
   "id": "d3e55240",
   "metadata": {},
   "outputs": [
    {
     "name": "stdout",
     "output_type": "stream",
     "text": [
      "{'2023-01-01': [10, 20, 5, 15], '2023-06-01': [30, 40], '2023-07-01': [25, 35]}\n"
     ]
    }
   ],
   "source": [
    "def merge_values(A):\n",
    "    \"\"\"\n",
    "    将字典 A 的结构从 {timestamps: {name: [value, value]}} 转换为\n",
    "    {timestamps: [value, value]}，合并每个 timestamps 下所有 name 的 value。\n",
    "    \n",
    "    参数:\n",
    "        A: 输入字典，结构为 {timestamps: {name: [value, value]}}\n",
    "    \n",
    "    返回:\n",
    "        new_A: 转换后的字典，结构为 {timestamps: [value, value]}\n",
    "    \"\"\"\n",
    "    new_A = {}\n",
    "    \n",
    "    # 遍历原始字典\n",
    "    for timestamp, name_dict in A.items():\n",
    "        # 合并所有 name 的 value 列表\n",
    "        merged_values = []\n",
    "        for values in name_dict.values():\n",
    "            merged_values.extend(values)\n",
    "        # 存储到新字典\n",
    "        new_A[timestamp] = merged_values\n",
    "    \n",
    "    return new_A\n",
    "\n",
    "# 示例字典\n",
    "A = {\n",
    "    \"2023-01-01\": {\"name1\": [10, 20], \"name2\": [5, 15]},\n",
    "    \"2023-06-01\": {\"name1\": [30, 40]},\n",
    "    \"2023-07-01\": {\"name2\": [25, 35]}\n",
    "}\n",
    "\n",
    "# 合并 value\n",
    "result = merge_values(A)\n",
    "print(result)"
   ]
  },
  {
   "cell_type": "code",
   "execution_count": 12,
   "id": "fdeb75f0",
   "metadata": {},
   "outputs": [
    {
     "name": "stdout",
     "output_type": "stream",
     "text": [
      "2023-01-01: 2.5\n",
      "2023-06-01: 6.5\n",
      "2023-07-01: 9.5\n"
     ]
    }
   ],
   "source": [
    "import torch\n",
    "\n",
    "def mean_pool_values(A):\n",
    "    \"\"\"\n",
    "    将字典 A 的结构从 {timestamps: [value, value]} 转换为 {timestamps: value}，\n",
    "    其中 value 是 torch.Tensor，通过平均池化合并每个 timestamps 下的 value 列表。\n",
    "    \n",
    "    参数:\n",
    "        A: 输入字典，结构为 {timestamps: [torch.Tensor, torch.Tensor]}\n",
    "    \n",
    "    返回:\n",
    "        new_A: 转换后的字典，结构为 {timestamps: torch.Tensor}\n",
    "    \"\"\"\n",
    "    new_A = {}\n",
    "    \n",
    "    # 遍历原始字典\n",
    "    for timestamp, value_list in A.items():\n",
    "        # 将 value 列表堆叠为张量，形状为 (num_values, ...)\n",
    "        stacked_values = torch.stack(value_list)\n",
    "        # 沿第0维（num_values）取平均，得到单个张量\n",
    "        pooled_value = torch.mean(stacked_values, dim=0)\n",
    "        # 存储到新字典\n",
    "        new_A[timestamp] = torch.mean(pooled_value, dim=0)\n",
    "    \n",
    "    return new_A\n",
    "\n",
    "# 示例字典\n",
    "A = {\n",
    "    \"2023-01-01\": [torch.tensor([1.0, 2.0]), torch.tensor([3.0, 4.0])],\n",
    "    \"2023-06-01\": [torch.tensor([5.0, 6.0]), torch.tensor([7.0, 8.0])],\n",
    "    \"2023-07-01\": [torch.tensor([9.0, 10.0])]\n",
    "}\n",
    "\n",
    "# 平均池化\n",
    "result = mean_pool_values(A)\n",
    "for timestamp, value in result.items():\n",
    "    print(f\"{timestamp}: {value}\")"
   ]
  },
  {
   "cell_type": "code",
   "execution_count": 13,
   "id": "51c16dc9",
   "metadata": {},
   "outputs": [],
   "source": [
    "mean_content = mean_pool_values(merge_values(swap_hierarchy(all_content)))"
   ]
  },
  {
   "cell_type": "code",
   "execution_count": 17,
   "id": "b574059a",
   "metadata": {},
   "outputs": [
    {
     "name": "stdout",
     "output_type": "stream",
     "text": [
      "Values before 2023-07-01: [tensor([1., 2.]), tensor([3., 4.])]\n"
     ]
    }
   ],
   "source": [
    "from datetime import datetime\n",
    "\n",
    "def get_values_before_date(A, cutoff_date_str, date_format=\"%Y-%m-%d\"):\n",
    "    \"\"\"\n",
    "    返回字典 A 中所有 timestamps 小于 cutoff_date 的 value 列表。\n",
    "    \n",
    "    参数:\n",
    "        A: 输入字典，结构为 {timestamps: value}\n",
    "        cutoff_date_str: 截止日期字符串（如 \"2023-06-01\"）\n",
    "        date_format: 日期格式，默认为 \"%Y-%m-%d\"\n",
    "    \n",
    "    返回:\n",
    "        values: 小于截止日期的所有 value 列表\n",
    "    \"\"\"\n",
    "    # 将截止日期转换为 datetime 对象\n",
    "    cutoff_date = datetime.strptime(cutoff_date_str, date_format)\n",
    "    \n",
    "    # 初始化结果列表\n",
    "    values = []\n",
    "    \n",
    "    # 遍历字典\n",
    "    for timestamp, value in A.items():\n",
    "        # 将 timestamp 转换为 datetime 对象\n",
    "        timestamp_date = datetime.strptime(timestamp, date_format)\n",
    "        # 如果 timestamp 小于截止日期，添加对应的 value\n",
    "        if timestamp_date < cutoff_date:\n",
    "            values.append(value)\n",
    "    \n",
    "    return values\n",
    "\n",
    "# 示例字典\n",
    "import torch\n",
    "A = {\n",
    "    \"2023-01-01\": torch.tensor([1.0, 2.0]),\n",
    "    \"2023-06-01\": torch.tensor([3.0, 4.0]),\n",
    "    \"2023-07-01\": torch.tensor([5.0, 6.0]),\n",
    "    \"2024-01-01\": torch.tensor([7.0, 8.0])\n",
    "}\n",
    "\n",
    "# 示例调用\n",
    "cutoff_date = \"2023-07-01\"\n",
    "result = get_values_before_date(A, cutoff_date)\n",
    "print(f\"Values before {cutoff_date}: {result}\")"
   ]
  },
  {
   "cell_type": "code",
   "execution_count": 24,
   "id": "6888820d",
   "metadata": {},
   "outputs": [
    {
     "data": {
      "text/plain": [
       "200"
      ]
     },
     "execution_count": 24,
     "metadata": {},
     "output_type": "execute_result"
    }
   ],
   "source": [
    "len(get_values_before_date(mean_content, \"2017-07-01\")[-200:])"
   ]
  },
  {
   "cell_type": "code",
   "execution_count": 26,
   "id": "081a7502",
   "metadata": {},
   "outputs": [
    {
     "name": "stdout",
     "output_type": "stream",
     "text": [
      "True\n"
     ]
    },
    {
     "ename": "KeyboardInterrupt",
     "evalue": "",
     "output_type": "error",
     "traceback": [
      "\u001b[31m---------------------------------------------------------------------------\u001b[39m",
      "\u001b[31mKeyboardInterrupt\u001b[39m                         Traceback (most recent call last)",
      "\u001b[36mCell\u001b[39m\u001b[36m \u001b[39m\u001b[32mIn[26]\u001b[39m\u001b[32m, line 24\u001b[39m\n\u001b[32m     22\u001b[39m \u001b[38;5;66;03m# 测试\u001b[39;00m\n\u001b[32m     23\u001b[39m \u001b[38;5;28mprint\u001b[39m(is_timestamp(var1))  \u001b[38;5;66;03m# True\u001b[39;00m\n\u001b[32m---> \u001b[39m\u001b[32m24\u001b[39m \u001b[38;5;28mprint\u001b[39m(\u001b[43mis_timestamp\u001b[49m\u001b[43m(\u001b[49m\u001b[43mvar2\u001b[49m\u001b[43m)\u001b[49m)  \u001b[38;5;66;03m# False\u001b[39;00m\n\u001b[32m     25\u001b[39m \u001b[38;5;28mprint\u001b[39m(is_timestamp(var3))  \u001b[38;5;66;03m# False\u001b[39;00m\n\u001b[32m     26\u001b[39m \u001b[38;5;28mprint\u001b[39m(is_timestamp(var4))  \u001b[38;5;66;03m# False\u001b[39;00m\n",
      "\u001b[36mCell\u001b[39m\u001b[36m \u001b[39m\u001b[32mIn[26]\u001b[39m\u001b[32m, line 13\u001b[39m, in \u001b[36mis_timestamp\u001b[39m\u001b[34m(obj)\u001b[39m\n\u001b[32m      3\u001b[39m \u001b[38;5;28;01mdef\u001b[39;00m\u001b[38;5;250m \u001b[39m\u001b[34mis_timestamp\u001b[39m(obj):\n\u001b[32m      4\u001b[39m \u001b[38;5;250m    \u001b[39m\u001b[33;03m\"\"\"\u001b[39;00m\n\u001b[32m      5\u001b[39m \u001b[33;03m    判断变量是否是 datetime.datetime 对象。\u001b[39;00m\n\u001b[32m      6\u001b[39m \n\u001b[32m   (...)\u001b[39m\u001b[32m     11\u001b[39m \u001b[33;03m        bool: 如果是 datetime.datetime 对象，返回 True，否则返回 False\u001b[39;00m\n\u001b[32m     12\u001b[39m \u001b[33;03m    \"\"\"\u001b[39;00m\n\u001b[32m---> \u001b[39m\u001b[32m13\u001b[39m     \u001b[38;5;28;01mreturn\u001b[39;00m \u001b[38;5;28;43misinstance\u001b[39;49m(obj, datetime)\n",
      "\u001b[36mCell\u001b[39m\u001b[36m \u001b[39m\u001b[32mIn[26]\u001b[39m\u001b[32m, line 13\u001b[39m, in \u001b[36mis_timestamp\u001b[39m\u001b[34m(obj)\u001b[39m\n\u001b[32m      3\u001b[39m \u001b[38;5;28;01mdef\u001b[39;00m\u001b[38;5;250m \u001b[39m\u001b[34mis_timestamp\u001b[39m(obj):\n\u001b[32m      4\u001b[39m \u001b[38;5;250m    \u001b[39m\u001b[33;03m\"\"\"\u001b[39;00m\n\u001b[32m      5\u001b[39m \u001b[33;03m    判断变量是否是 datetime.datetime 对象。\u001b[39;00m\n\u001b[32m      6\u001b[39m \n\u001b[32m   (...)\u001b[39m\u001b[32m     11\u001b[39m \u001b[33;03m        bool: 如果是 datetime.datetime 对象，返回 True，否则返回 False\u001b[39;00m\n\u001b[32m     12\u001b[39m \u001b[33;03m    \"\"\"\u001b[39;00m\n\u001b[32m---> \u001b[39m\u001b[32m13\u001b[39m     \u001b[38;5;28;01mreturn\u001b[39;00m \u001b[38;5;28;43misinstance\u001b[39;49m(obj, datetime)\n",
      "\u001b[36mFile \u001b[39m\u001b[32m_pydevd_bundle\\\\pydevd_cython.pyx:1697\u001b[39m, in \u001b[36m_pydevd_bundle.pydevd_cython.SafeCallWrapper.__call__\u001b[39m\u001b[34m()\u001b[39m\n",
      "\u001b[36mFile \u001b[39m\u001b[32m_pydevd_bundle\\\\pydevd_cython.pyx:634\u001b[39m, in \u001b[36m_pydevd_bundle.pydevd_cython.PyDBFrame.trace_dispatch\u001b[39m\u001b[34m()\u001b[39m\n",
      "\u001b[36mFile \u001b[39m\u001b[32m_pydevd_bundle\\\\pydevd_cython.pyx:1112\u001b[39m, in \u001b[36m_pydevd_bundle.pydevd_cython.PyDBFrame.trace_dispatch\u001b[39m\u001b[34m()\u001b[39m\n",
      "\u001b[36mFile \u001b[39m\u001b[32m_pydevd_bundle\\\\pydevd_cython.pyx:1090\u001b[39m, in \u001b[36m_pydevd_bundle.pydevd_cython.PyDBFrame.trace_dispatch\u001b[39m\u001b[34m()\u001b[39m\n",
      "\u001b[36mFile \u001b[39m\u001b[32m_pydevd_bundle\\\\pydevd_cython.pyx:494\u001b[39m, in \u001b[36m_pydevd_bundle.pydevd_cython.PyDBFrame.do_wait_suspend\u001b[39m\u001b[34m()\u001b[39m\n",
      "\u001b[36mFile \u001b[39m\u001b[32m~/miniconda3/envs/ts/lib/python3.11/site-packages/debugpy/_vendored/pydevd/pydevd.py:2185\u001b[39m, in \u001b[36mPyDB.do_wait_suspend\u001b[39m\u001b[34m(self, thread, frame, event, arg, exception_type)\u001b[39m\n\u001b[32m   2182\u001b[39m             from_this_thread.append(frame_custom_thread_id)\n\u001b[32m   2184\u001b[39m     \u001b[38;5;28;01mwith\u001b[39;00m \u001b[38;5;28mself\u001b[39m._threads_suspended_single_notification.notify_thread_suspended(thread_id, thread, stop_reason):\n\u001b[32m-> \u001b[39m\u001b[32m2185\u001b[39m         keep_suspended = \u001b[38;5;28;43mself\u001b[39;49m\u001b[43m.\u001b[49m\u001b[43m_do_wait_suspend\u001b[49m\u001b[43m(\u001b[49m\u001b[43mthread\u001b[49m\u001b[43m,\u001b[49m\u001b[43m \u001b[49m\u001b[43mframe\u001b[49m\u001b[43m,\u001b[49m\u001b[43m \u001b[49m\u001b[43mevent\u001b[49m\u001b[43m,\u001b[49m\u001b[43m \u001b[49m\u001b[43marg\u001b[49m\u001b[43m,\u001b[49m\u001b[43m \u001b[49m\u001b[43mtrace_suspend_type\u001b[49m\u001b[43m,\u001b[49m\u001b[43m \u001b[49m\u001b[43mfrom_this_thread\u001b[49m\u001b[43m,\u001b[49m\u001b[43m \u001b[49m\u001b[43mframes_tracker\u001b[49m\u001b[43m)\u001b[49m\n\u001b[32m   2187\u001b[39m frames_list = \u001b[38;5;28;01mNone\u001b[39;00m\n\u001b[32m   2189\u001b[39m \u001b[38;5;28;01mif\u001b[39;00m keep_suspended:\n\u001b[32m   2190\u001b[39m     \u001b[38;5;66;03m# This means that we should pause again after a set next statement.\u001b[39;00m\n",
      "\u001b[36mFile \u001b[39m\u001b[32m~/miniconda3/envs/ts/lib/python3.11/site-packages/debugpy/_vendored/pydevd/pydevd.py:2254\u001b[39m, in \u001b[36mPyDB._do_wait_suspend\u001b[39m\u001b[34m(self, thread, frame, event, arg, trace_suspend_type, from_this_thread, frames_tracker)\u001b[39m\n\u001b[32m   2251\u001b[39m                 queue.put(internal_cmd)\n\u001b[32m   2252\u001b[39m                 wait_timeout = TIMEOUT_FAST\n\u001b[32m-> \u001b[39m\u001b[32m2254\u001b[39m         \u001b[43mnotify_event\u001b[49m\u001b[43m.\u001b[49m\u001b[43mwait\u001b[49m\u001b[43m(\u001b[49m\u001b[43mwait_timeout\u001b[49m\u001b[43m)\u001b[49m\n\u001b[32m   2255\u001b[39m         notify_event.clear()\n\u001b[32m   2257\u001b[39m \u001b[38;5;28;01mfinally\u001b[39;00m:\n",
      "\u001b[36mFile \u001b[39m\u001b[32m~/miniconda3/envs/ts/lib/python3.11/threading.py:629\u001b[39m, in \u001b[36mEvent.wait\u001b[39m\u001b[34m(self, timeout)\u001b[39m\n\u001b[32m    627\u001b[39m signaled = \u001b[38;5;28mself\u001b[39m._flag\n\u001b[32m    628\u001b[39m \u001b[38;5;28;01mif\u001b[39;00m \u001b[38;5;129;01mnot\u001b[39;00m signaled:\n\u001b[32m--> \u001b[39m\u001b[32m629\u001b[39m     signaled = \u001b[38;5;28;43mself\u001b[39;49m\u001b[43m.\u001b[49m\u001b[43m_cond\u001b[49m\u001b[43m.\u001b[49m\u001b[43mwait\u001b[49m\u001b[43m(\u001b[49m\u001b[43mtimeout\u001b[49m\u001b[43m)\u001b[49m\n\u001b[32m    630\u001b[39m \u001b[38;5;28;01mreturn\u001b[39;00m signaled\n",
      "\u001b[36mFile \u001b[39m\u001b[32m~/miniconda3/envs/ts/lib/python3.11/threading.py:331\u001b[39m, in \u001b[36mCondition.wait\u001b[39m\u001b[34m(self, timeout)\u001b[39m\n\u001b[32m    329\u001b[39m \u001b[38;5;28;01melse\u001b[39;00m:\n\u001b[32m    330\u001b[39m     \u001b[38;5;28;01mif\u001b[39;00m timeout > \u001b[32m0\u001b[39m:\n\u001b[32m--> \u001b[39m\u001b[32m331\u001b[39m         gotit = \u001b[43mwaiter\u001b[49m\u001b[43m.\u001b[49m\u001b[43macquire\u001b[49m\u001b[43m(\u001b[49m\u001b[38;5;28;43;01mTrue\u001b[39;49;00m\u001b[43m,\u001b[49m\u001b[43m \u001b[49m\u001b[43mtimeout\u001b[49m\u001b[43m)\u001b[49m\n\u001b[32m    332\u001b[39m     \u001b[38;5;28;01melse\u001b[39;00m:\n\u001b[32m    333\u001b[39m         gotit = waiter.acquire(\u001b[38;5;28;01mFalse\u001b[39;00m)\n",
      "\u001b[31mKeyboardInterrupt\u001b[39m: "
     ]
    }
   ],
   "source": [
    "from datetime import datetime\n",
    "\n",
    "def is_timestamp(obj):\n",
    "    \"\"\"\n",
    "    判断变量是否是 datetime.datetime 对象。\n",
    "    \n",
    "    参数:\n",
    "        obj: 要检查的变量\n",
    "    \n",
    "    返回:\n",
    "        bool: 如果是 datetime.datetime 对象，返回 True，否则返回 False\n",
    "    \"\"\"\n",
    "    return isinstance(obj, datetime)\n",
    "\n",
    "# 示例测试\n",
    "# 创建一些测试变量\n",
    "var1 = datetime(2023, 1, 1)  # datetime 对象\n",
    "var2 = \"2023-01-01\"          # 字符串\n",
    "var3 = 1697059200            # Unix 时间戳（整数）\n",
    "var4 = None                  # None 值\n",
    "\n",
    "# 测试\n",
    "print(is_timestamp(var1))  # True\n",
    "print(is_timestamp(var2))  # False\n",
    "print(is_timestamp(var3))  # False\n",
    "print(is_timestamp(var4))  # False"
   ]
  }
 ],
 "metadata": {
  "kernelspec": {
   "display_name": "ts",
   "language": "python",
   "name": "python3"
  },
  "language_info": {
   "codemirror_mode": {
    "name": "ipython",
    "version": 3
   },
   "file_extension": ".py",
   "mimetype": "text/x-python",
   "name": "python",
   "nbconvert_exporter": "python",
   "pygments_lexer": "ipython3",
   "version": "3.11.11"
  }
 },
 "nbformat": 4,
 "nbformat_minor": 5
}
